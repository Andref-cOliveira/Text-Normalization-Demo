{
 "cells": [
  {
   "cell_type": "markdown",
   "metadata": {},
   "source": [
    "# Demonstration of Text Normalization using Memory Augmented Neural Networks\n",
    "---"
   ]
  },
  {
   "cell_type": "markdown",
   "metadata": {},
   "source": [
    "This notebook and the accompanying paper [Text Normalization using Memory Augmented Neural Networks](https://arxiv.org/?) demonstrates an accuracy of 99.5% on the Text Normalization Challenge by Richard Sproat and Navdeep Jaitly. The approach used here has secured the 6th position in the [Kaggle Russian Text Normalization Challenge](https://www.kaggle.com/c/text-normalization-challenge-russian-language) by Google's Text Normalization Research Group."
   ]
  },
  {
   "cell_type": "markdown",
   "metadata": {},
   "source": [
    "# Table of Contents\n",
    "---\n",
    "1. [Import Dependencies](#import)\n",
    "2. [Global Config](#config)\n",
    "3. [Load Dataset](#load)\n",
    "4. [XGBoost Classification](#xgb)\n",
    "5. [Encode Data](#encode)\n",
    "6. [DNC Normalization](#dnc)\n",
    "7. [Data Postprocessing](#post)\n",
    "8. [Results Analysis](#result)\n",
    "9. [Conclusion](#conclusion)\n",
    "\n",
    "___"
   ]
  },
  {
   "cell_type": "markdown",
   "metadata": {},
   "source": [
    "## 1. Import Dependencies\n",
    "<a id=\"import\"></a>"
   ]
  },
  {
   "cell_type": "markdown",
   "metadata": {},
   "source": [
    "### Import Libraries"
   ]
  },
  {
   "cell_type": "code",
   "execution_count": 1,
   "metadata": {},
   "outputs": [
    {
     "name": "stderr",
     "output_type": "stream",
     "text": [
      "/home/aman/anaconda3/envs/deep-tf/lib/python3.6/site-packages/sklearn/cross_validation.py:41: DeprecationWarning: This module was deprecated in version 0.18 in favor of the model_selection module into which all the refactored classes and functions are moved. Also note that the interface of the new CV iterators are different from that of this module. This module will be removed in 0.20.\n",
      "  \"This module will be removed in 0.20.\", DeprecationWarning)\n"
     ]
    }
   ],
   "source": [
    "import os\n",
    "import gc\n",
    "import sys\n",
    "\n",
    "import numpy as np\n",
    "import pandas as pd\n",
    "import seaborn as sns\n",
    "import matplotlib.pyplot as plt \n",
    "from sklearn.metrics import accuracy_score\n",
    "\n",
    "import xgboost as xgb\n",
    "import tensorflow as tf\n",
    "\n",
    "%matplotlib inline"
   ]
  },
  {
   "cell_type": "code",
   "execution_count": 2,
   "metadata": {},
   "outputs": [],
   "source": [
    "%load_ext autoreload\n",
    "%autoreload 2"
   ]
  },
  {
   "cell_type": "markdown",
   "metadata": {},
   "source": [
    "### Import Utilities"
   ]
  },
  {
   "cell_type": "code",
   "execution_count": 3,
   "metadata": {},
   "outputs": [],
   "source": [
    "sys.path.append(\"../src\")\n",
    "\n",
    "from utils import Encoder\n",
    "from utils import Normalized2String\n",
    "from XGBclassify import XGB\n",
    "import DNCnormalize"
   ]
  },
  {
   "cell_type": "markdown",
   "metadata": {},
   "source": [
    "**System Information**"
   ]
  },
  {
   "cell_type": "code",
   "execution_count": 4,
   "metadata": {},
   "outputs": [
    {
     "name": "stdout",
     "output_type": "stream",
     "text": [
      "Fri Dec 29 2017 \n",
      "\n",
      "CPython 3.6.3\n",
      "IPython 6.2.1\n",
      "\n",
      "numpy 1.13.3\n",
      "pandas 0.21.0\n",
      "matplotlib 2.1.0\n",
      "seaborn 0.8.1\n",
      "sklearn 0.19.1\n",
      "xgboost 0.6\n",
      "tensorflow 1.3.0\n",
      "\n",
      "compiler   : GCC 7.2.0\n",
      "system     : Linux\n",
      "release    : 4.4.0-77-generic\n",
      "machine    : x86_64\n",
      "processor  : x86_64\n",
      "CPU cores  : 4\n",
      "interpreter: 64bit\n"
     ]
    }
   ],
   "source": [
    "%load_ext watermark\n",
    "%watermark -v -n -m -p numpy,pandas,matplotlib,seaborn,sklearn,xgboost,tensorflow"
   ]
  },
  {
   "cell_type": "markdown",
   "metadata": {},
   "source": [
    "## 2. Global Config\n",
    "<a id=\"config\"></a>\n"
   ]
  },
  {
   "cell_type": "markdown",
   "metadata": {},
   "source": [
    "**Language : English or Russian?**"
   ]
  },
  {
   "cell_type": "code",
   "execution_count": 5,
   "metadata": {},
   "outputs": [],
   "source": [
    "lang = 'english'\n",
    "# lang = 'russian'"
   ]
  },
  {
   "cell_type": "code",
   "execution_count": 6,
   "metadata": {},
   "outputs": [],
   "source": [
    "if lang == 'english':\n",
    "    # input data\n",
    "    data_directory = '../data/english/'\n",
    "    data = data_directory+'output-00099-of-00100_processed.csv'\n",
    "    vocab = data_directory+'en_vocab.data'\n",
    "    vocab_size = 120\n",
    "    # interim data\n",
    "    encoded_file = data_directory+'en_encoded.npy'\n",
    "    encoded_len_file = data_directory+'en_encoded_len.npy'\n",
    "    normalized_file = data_directory+'en_normalized.npy'\n",
    "    # model\n",
    "    model_directory = '../models/english/'\n",
    "    xgb_path = model_directory+'en-xgb[0.5]'\n",
    "    dnc_name = 'translate.ckpt'\n",
    "    end_token = 0\n",
    "    # kaggle test data\n",
    "    kg_data = data_directory+'en_test.csv'\n",
    "    # ground truth labels\n",
    "    truth = data_directory+'en_solution.csv'\n",
    "    # results\n",
    "    result_dir = '../results/english/'\n",
    "    result_csv = 'normalized.csv'\n",
    "\n",
    "elif lang == 'russian':\n",
    "    # input data\n",
    "    data_directory = '../data/russian/'\n",
    "    data = data_directory+'output-00099-of-00100_processed.csv'\n",
    "    vocab = data_directory+'ru_vocab.data'\n",
    "    vocab_size = 180\n",
    "    # interim data\n",
    "    encoded_file = data_directory+'ru_encoded.npy'\n",
    "    encoded_len_file = data_directory+'ru_encoded_len.npy'\n",
    "    normalized_file = data_directory+'ru_normalized.npy'\n",
    "    # model\n",
    "    model_directory = '../models/russian/'\n",
    "    xgb_path = model_directory+'ru-xgb[1.0]'\n",
    "    dnc_name = 'final_model.ckpt'\n",
    "    end_token = -1\n",
    "    # kaggle test data\n",
    "    kg_data = data_directory+'ru_test.csv'\n",
    "    # ground truth labels\n",
    "    truth = data_directory+'ru_solution.csv'\n",
    "    # results\n",
    "    result_dir = '../results/russian/'\n",
    "    result_csv = 'normalized.csv'"
   ]
  },
  {
   "cell_type": "markdown",
   "metadata": {
    "heading_collapsed": true
   },
   "source": [
    "## 3. Load Dataset\n",
    "<a id=\"load\"></a>"
   ]
  },
  {
   "cell_type": "markdown",
   "metadata": {
    "hidden": true
   },
   "source": [
    "**Dataset by Sproat and Jaitly (2016) - An RNN Model of Text Normalization**  \n",
    "- English Source: [https://storage.googleapis.com/text-normalization/en_with_types.tgz]  \n",
    "- Russian Source: [https://storage.googleapis.com/text-normalization/ru_with_types.tgz]  \n",
    "*The data is preprocessed for achieving results comparable to the ones presented in the above mentioned paper.*"
   ]
  },
  {
   "cell_type": "markdown",
   "metadata": {
    "hidden": true
   },
   "source": [
    "**Read CSV as DataFrame**"
   ]
  },
  {
   "cell_type": "code",
   "execution_count": 7,
   "metadata": {
    "hidden": true
   },
   "outputs": [
    {
     "name": "stdout",
     "output_type": "stream",
     "text": [
      "<class 'pandas.core.frame.DataFrame'>\n",
      "RangeIndex: 93196 entries, 0 to 93195\n",
      "Data columns (total 5 columns):\n",
      "sentence_id    93196 non-null int64\n",
      "token_id       93196 non-null int64\n",
      "semiotic       93196 non-null object\n",
      "before         93196 non-null object\n",
      "after          93196 non-null object\n",
      "dtypes: int64(2), object(3)\n",
      "memory usage: 3.6+ MB\n"
     ]
    }
   ],
   "source": [
    "raw_data = pd.read_csv(data)\n",
    "raw_data.info()"
   ]
  },
  {
   "cell_type": "code",
   "execution_count": 8,
   "metadata": {
    "hidden": true
   },
   "outputs": [
    {
     "data": {
      "text/html": [
       "<div>\n",
       "<style scoped>\n",
       "    .dataframe tbody tr th:only-of-type {\n",
       "        vertical-align: middle;\n",
       "    }\n",
       "\n",
       "    .dataframe tbody tr th {\n",
       "        vertical-align: top;\n",
       "    }\n",
       "\n",
       "    .dataframe thead th {\n",
       "        text-align: right;\n",
       "    }\n",
       "</style>\n",
       "<table border=\"1\" class=\"dataframe\">\n",
       "  <thead>\n",
       "    <tr style=\"text-align: right;\">\n",
       "      <th></th>\n",
       "      <th>sentence_id</th>\n",
       "      <th>token_id</th>\n",
       "      <th>semiotic</th>\n",
       "      <th>before</th>\n",
       "      <th>after</th>\n",
       "    </tr>\n",
       "  </thead>\n",
       "  <tbody>\n",
       "    <tr>\n",
       "      <th>0</th>\n",
       "      <td>0</td>\n",
       "      <td>0</td>\n",
       "      <td>PLAIN</td>\n",
       "      <td>Сбор</td>\n",
       "      <td>Сбор</td>\n",
       "    </tr>\n",
       "    <tr>\n",
       "      <th>1</th>\n",
       "      <td>0</td>\n",
       "      <td>1</td>\n",
       "      <td>PUNCT</td>\n",
       "      <td>)</td>\n",
       "      <td>)</td>\n",
       "    </tr>\n",
       "    <tr>\n",
       "      <th>2</th>\n",
       "      <td>0</td>\n",
       "      <td>2</td>\n",
       "      <td>PUNCT</td>\n",
       "      <td>—</td>\n",
       "      <td>—</td>\n",
       "    </tr>\n",
       "    <tr>\n",
       "      <th>3</th>\n",
       "      <td>0</td>\n",
       "      <td>3</td>\n",
       "      <td>PLAIN</td>\n",
       "      <td>село</td>\n",
       "      <td>село</td>\n",
       "    </tr>\n",
       "    <tr>\n",
       "      <th>4</th>\n",
       "      <td>0</td>\n",
       "      <td>4</td>\n",
       "      <td>PLAIN</td>\n",
       "      <td>в</td>\n",
       "      <td>в</td>\n",
       "    </tr>\n",
       "  </tbody>\n",
       "</table>\n",
       "</div>"
      ],
      "text/plain": [
       "   sentence_id  token_id semiotic before after\n",
       "0            0         0    PLAIN   Сбор  Сбор\n",
       "1            0         1    PUNCT      )     )\n",
       "2            0         2    PUNCT      —     —\n",
       "3            0         3    PLAIN   село  село\n",
       "4            0         4    PLAIN      в     в"
      ]
     },
     "execution_count": 8,
     "metadata": {},
     "output_type": "execute_result"
    }
   ],
   "source": [
    "raw_data.head()"
   ]
  },
  {
   "cell_type": "markdown",
   "metadata": {
    "hidden": true
   },
   "source": [
    "**Dropping the ground truth labels**"
   ]
  },
  {
   "cell_type": "code",
   "execution_count": 9,
   "metadata": {
    "hidden": true
   },
   "outputs": [],
   "source": [
    "raw_data.drop(columns=['after'], inplace=True)"
   ]
  },
  {
   "cell_type": "markdown",
   "metadata": {
    "heading_collapsed": true
   },
   "source": [
    "## 4. XGBoost Classification  \n",
    "<a id=\"xgb\"></a>\n",
    "**ToBeNormalized or RemainSame**"
   ]
  },
  {
   "cell_type": "code",
   "execution_count": 10,
   "metadata": {
    "hidden": true
   },
   "outputs": [],
   "source": [
    "# instantiate and load trained\n",
    "# XGBoost Model for classification\n",
    "xgb = XGB(xgb_path)"
   ]
  },
  {
   "cell_type": "code",
   "execution_count": 11,
   "metadata": {
    "hidden": true
   },
   "outputs": [],
   "source": [
    "# Class of tokens in the data\n",
    "raw_data['class'] = xgb.predict(data=raw_data)\n",
    "# Raw to Classified Data\n",
    "classified_data = raw_data.copy(deep=False)"
   ]
  },
  {
   "cell_type": "code",
   "execution_count": 12,
   "metadata": {
    "hidden": true
   },
   "outputs": [
    {
     "data": {
      "text/html": [
       "<div>\n",
       "<style scoped>\n",
       "    .dataframe tbody tr th:only-of-type {\n",
       "        vertical-align: middle;\n",
       "    }\n",
       "\n",
       "    .dataframe tbody tr th {\n",
       "        vertical-align: top;\n",
       "    }\n",
       "\n",
       "    .dataframe thead th {\n",
       "        text-align: right;\n",
       "    }\n",
       "</style>\n",
       "<table border=\"1\" class=\"dataframe\">\n",
       "  <thead>\n",
       "    <tr style=\"text-align: right;\">\n",
       "      <th></th>\n",
       "      <th>sentence_id</th>\n",
       "      <th>token_id</th>\n",
       "      <th>semiotic</th>\n",
       "      <th>before</th>\n",
       "      <th>class</th>\n",
       "    </tr>\n",
       "  </thead>\n",
       "  <tbody>\n",
       "    <tr>\n",
       "      <th>11720</th>\n",
       "      <td>869</td>\n",
       "      <td>13</td>\n",
       "      <td>PUNCT</td>\n",
       "      <td>,</td>\n",
       "      <td>RemainSelf</td>\n",
       "    </tr>\n",
       "    <tr>\n",
       "      <th>80263</th>\n",
       "      <td>5871</td>\n",
       "      <td>8</td>\n",
       "      <td>PLAIN</td>\n",
       "      <td>подчиненный</td>\n",
       "      <td>RemainSelf</td>\n",
       "    </tr>\n",
       "    <tr>\n",
       "      <th>64576</th>\n",
       "      <td>4703</td>\n",
       "      <td>8</td>\n",
       "      <td>PLAIN</td>\n",
       "      <td>квадратный</td>\n",
       "      <td>RemainSelf</td>\n",
       "    </tr>\n",
       "    <tr>\n",
       "      <th>68758</th>\n",
       "      <td>5009</td>\n",
       "      <td>10</td>\n",
       "      <td>PLAIN</td>\n",
       "      <td>Занимает</td>\n",
       "      <td>RemainSelf</td>\n",
       "    </tr>\n",
       "    <tr>\n",
       "      <th>62419</th>\n",
       "      <td>4553</td>\n",
       "      <td>5</td>\n",
       "      <td>PLAIN</td>\n",
       "      <td>необходимы</td>\n",
       "      <td>RemainSelf</td>\n",
       "    </tr>\n",
       "    <tr>\n",
       "      <th>84017</th>\n",
       "      <td>6142</td>\n",
       "      <td>7</td>\n",
       "      <td>PUNCT</td>\n",
       "      <td>,</td>\n",
       "      <td>RemainSelf</td>\n",
       "    </tr>\n",
       "    <tr>\n",
       "      <th>51132</th>\n",
       "      <td>3725</td>\n",
       "      <td>5</td>\n",
       "      <td>PLAIN</td>\n",
       "      <td>проживает</td>\n",
       "      <td>RemainSelf</td>\n",
       "    </tr>\n",
       "    <tr>\n",
       "      <th>28983</th>\n",
       "      <td>2103</td>\n",
       "      <td>19</td>\n",
       "      <td>PLAIN</td>\n",
       "      <td>Игорем</td>\n",
       "      <td>RemainSelf</td>\n",
       "    </tr>\n",
       "    <tr>\n",
       "      <th>83071</th>\n",
       "      <td>6074</td>\n",
       "      <td>5</td>\n",
       "      <td>PUNCT</td>\n",
       "      <td>,</td>\n",
       "      <td>RemainSelf</td>\n",
       "    </tr>\n",
       "    <tr>\n",
       "      <th>46831</th>\n",
       "      <td>3406</td>\n",
       "      <td>16</td>\n",
       "      <td>PUNCT</td>\n",
       "      <td>.</td>\n",
       "      <td>RemainSelf</td>\n",
       "    </tr>\n",
       "  </tbody>\n",
       "</table>\n",
       "</div>"
      ],
      "text/plain": [
       "       sentence_id  token_id semiotic       before       class\n",
       "11720          869        13    PUNCT            ,  RemainSelf\n",
       "80263         5871         8    PLAIN  подчиненный  RemainSelf\n",
       "64576         4703         8    PLAIN   квадратный  RemainSelf\n",
       "68758         5009        10    PLAIN     Занимает  RemainSelf\n",
       "62419         4553         5    PLAIN   необходимы  RemainSelf\n",
       "84017         6142         7    PUNCT            ,  RemainSelf\n",
       "51132         3725         5    PLAIN    проживает  RemainSelf\n",
       "28983         2103        19    PLAIN       Игорем  RemainSelf\n",
       "83071         6074         5    PUNCT            ,  RemainSelf\n",
       "46831         3406        16    PUNCT            .  RemainSelf"
      ]
     },
     "execution_count": 12,
     "metadata": {},
     "output_type": "execute_result"
    }
   ],
   "source": [
    "classified_data.sample(n=10)"
   ]
  },
  {
   "cell_type": "code",
   "execution_count": 13,
   "metadata": {
    "hidden": true
   },
   "outputs": [],
   "source": [
    "id_tobenormalized = classified_data.index[classified_data['class']=='ToBeNormalized'].tolist()\n",
    "id_remainself = classified_data.index[classified_data['class']=='RemainSelf'].tolist()"
   ]
  },
  {
   "cell_type": "markdown",
   "metadata": {
    "hidden": true
   },
   "source": [
    "Sanity Check..."
   ]
  },
  {
   "cell_type": "code",
   "execution_count": 14,
   "metadata": {
    "hidden": true
   },
   "outputs": [
    {
     "name": "stdout",
     "output_type": "stream",
     "text": [
      "Tokens to be normalized : 11213\n",
      "Tokens to remain self : 81983\n"
     ]
    }
   ],
   "source": [
    "print('Tokens to be normalized : {}'.format(len(id_tobenormalized)))\n",
    "print('Tokens to remain self : {}'.format(len(id_remainself)))"
   ]
  },
  {
   "cell_type": "markdown",
   "metadata": {
    "heading_collapsed": true
   },
   "source": [
    "## 5. Encode Data\n",
    "<a id=\"encode\"></a>"
   ]
  },
  {
   "cell_type": "code",
   "execution_count": 15,
   "metadata": {
    "hidden": true
   },
   "outputs": [],
   "source": [
    "# Instatiate encoder with the vocabulary\n",
    "encoder = Encoder(vocab_file=vocab)"
   ]
  },
  {
   "cell_type": "code",
   "execution_count": 16,
   "metadata": {
    "hidden": true
   },
   "outputs": [],
   "source": [
    "# use existing Encoder Decoder parameters\n",
    "# to perform the decoding of the test data\n",
    "enc_data, enc_len = encoder.encode(classified_data)"
   ]
  },
  {
   "cell_type": "code",
   "execution_count": 17,
   "metadata": {
    "hidden": true
   },
   "outputs": [],
   "source": [
    "# encode 'tobenormalized' tokens only\n",
    "tobenormalized_enc_data = enc_data[id_tobenormalized]\n",
    "tobenormalized_enc_len = enc_len[id_tobenormalized]"
   ]
  },
  {
   "cell_type": "markdown",
   "metadata": {
    "hidden": true
   },
   "source": [
    "Sanity check..."
   ]
  },
  {
   "cell_type": "code",
   "execution_count": 18,
   "metadata": {
    "hidden": true
   },
   "outputs": [
    {
     "name": "stdout",
     "output_type": "stream",
     "text": [
      "Tokens to be normalized : 11213\n"
     ]
    }
   ],
   "source": [
    "print('Tokens to be normalized : {}'.format(len(tobenormalized_enc_data)))"
   ]
  },
  {
   "cell_type": "markdown",
   "metadata": {
    "hidden": true
   },
   "source": [
    "Saving encoded data"
   ]
  },
  {
   "cell_type": "code",
   "execution_count": 19,
   "metadata": {
    "hidden": true
   },
   "outputs": [],
   "source": [
    "np.save(encoded_file, tobenormalized_enc_data)\n",
    "np.save(encoded_len_file, tobenormalized_enc_len)"
   ]
  },
  {
   "cell_type": "markdown",
   "metadata": {
    "heading_collapsed": true
   },
   "source": [
    "## 6. DNC Normalization\n",
    "<a id=\"dnc\"></a>\n",
    "**Generate Normalized Form**"
   ]
  },
  {
   "cell_type": "code",
   "execution_count": 20,
   "metadata": {
    "hidden": true
   },
   "outputs": [],
   "source": [
    "tobenormalized_enc_data = np.load(encoded_file)\n",
    "tobenormalized_enc_len = np.load(encoded_len_file)"
   ]
  },
  {
   "cell_type": "code",
   "execution_count": 21,
   "metadata": {
    "hidden": true
   },
   "outputs": [],
   "source": [
    "# DNC tensorflow flag parameters\n",
    "tf.flags.DEFINE_string('model_dir', model_directory, 'Path to save model checkpoints')\n",
    "tf.flags.DEFINE_string('model_name', dnc_name, 'File name used for model checkpoints')\n",
    "tf.flags.DEFINE_integer('num_encoder_symbols', vocab_size, 'Source vocabulary size')\n",
    "tf.flags.DEFINE_integer('end_token', end_token, 'Start Token')"
   ]
  },
  {
   "cell_type": "code",
   "execution_count": 22,
   "metadata": {
    "hidden": true,
    "scrolled": false
   },
   "outputs": [
    {
     "name": "stdout",
     "output_type": "stream",
     "text": [
      "Using DNC model at ../models/russian/\n",
      "building model..\n",
      "building encoder..\n",
      "building decoder and attention..\n",
      "building greedy decoder..\n",
      "Reloading model parameters...\n",
      "INFO:tensorflow:Restoring parameters from ../models/russian/final_model.cpkt\n",
      "model restored from ../models/russian/final_model.cpkt\n",
      "Number of batches: 56\n",
      "Normalized 200 out of 11200\n",
      "Normalized 600 out of 11200\n",
      "Normalized 1000 out of 11200\n",
      "Normalized 1400 out of 11200\n",
      "Normalized 1800 out of 11200\n",
      "Normalized 2200 out of 11200\n",
      "Normalized 2600 out of 11200\n",
      "Normalized 3000 out of 11200\n",
      "Normalized 3400 out of 11200\n",
      "Normalized 3800 out of 11200\n",
      "Normalized 4200 out of 11200\n",
      "Normalized 4600 out of 11200\n",
      "Normalized 5000 out of 11200\n",
      "Normalized 5400 out of 11200\n",
      "Normalized 5800 out of 11200\n",
      "Normalized 6200 out of 11200\n",
      "Normalized 6600 out of 11200\n",
      "Normalized 7000 out of 11200\n",
      "Normalized 7400 out of 11200\n",
      "Normalized 7800 out of 11200\n",
      "Normalized 8200 out of 11200\n",
      "Normalized 8600 out of 11200\n",
      "Normalized 9000 out of 11200\n",
      "Normalized 9400 out of 11200\n",
      "Normalized 9800 out of 11200\n",
      "Normalized 10200 out of 11200\n",
      "Normalized 10600 out of 11200\n",
      "Normalized 11000 out of 11200\n"
     ]
    }
   ],
   "source": [
    "normalized_data = DNCnormalize.normalize(tobenormalized_enc_data, tobenormalized_enc_len)"
   ]
  },
  {
   "cell_type": "markdown",
   "metadata": {
    "hidden": true
   },
   "source": [
    "Sanity Check..."
   ]
  },
  {
   "cell_type": "code",
   "execution_count": 23,
   "metadata": {
    "hidden": true
   },
   "outputs": [
    {
     "data": {
      "text/plain": [
       "11213"
      ]
     },
     "execution_count": 23,
     "metadata": {},
     "output_type": "execute_result"
    }
   ],
   "source": [
    "len(tobenormalized_enc_data)"
   ]
  },
  {
   "cell_type": "code",
   "execution_count": 24,
   "metadata": {
    "hidden": true
   },
   "outputs": [
    {
     "data": {
      "text/plain": [
       "11400"
      ]
     },
     "execution_count": 24,
     "metadata": {},
     "output_type": "execute_result"
    }
   ],
   "source": [
    "len(normalized_data)"
   ]
  },
  {
   "cell_type": "markdown",
   "metadata": {
    "hidden": true
   },
   "source": [
    "**Saving the normalized form**"
   ]
  },
  {
   "cell_type": "code",
   "execution_count": 25,
   "metadata": {
    "hidden": true
   },
   "outputs": [],
   "source": [
    "np.save(normalized_file, normalized_data)"
   ]
  },
  {
   "cell_type": "markdown",
   "metadata": {
    "heading_collapsed": true
   },
   "source": [
    "## 7. Data Postprocessing\n",
    "<a id=\"post\"></a>"
   ]
  },
  {
   "cell_type": "markdown",
   "metadata": {
    "hidden": true
   },
   "source": [
    "**Load Normalized Data**"
   ]
  },
  {
   "cell_type": "code",
   "execution_count": 26,
   "metadata": {
    "hidden": true
   },
   "outputs": [],
   "source": [
    "normalized_data = np.load(normalized_file)"
   ]
  },
  {
   "cell_type": "markdown",
   "metadata": {
    "hidden": true
   },
   "source": [
    "**Encoded from to String form**"
   ]
  },
  {
   "cell_type": "code",
   "execution_count": 27,
   "metadata": {
    "hidden": true
   },
   "outputs": [],
   "source": [
    "# Converting the numpy array to a list form\n",
    "normalized_data = normalized_data[0:tobenormalized_enc_len.shape[0]]\n",
    "normalized_data = np.split(normalized_data, normalized_data.shape[0])"
   ]
  },
  {
   "cell_type": "markdown",
   "metadata": {
    "hidden": true
   },
   "source": [
    "Sanity check"
   ]
  },
  {
   "cell_type": "code",
   "execution_count": 28,
   "metadata": {
    "hidden": true
   },
   "outputs": [
    {
     "name": "stdout",
     "output_type": "stream",
     "text": [
      "Total instances : 11213\n",
      "Shape of each instance : (1, 1, 50, 1)\n"
     ]
    }
   ],
   "source": [
    "print('Total instances : {}'.format(len(normalized_data)))\n",
    "print('Shape of each instance : {}'.format(normalized_data[0].shape))"
   ]
  },
  {
   "cell_type": "code",
   "execution_count": 29,
   "metadata": {
    "hidden": true
   },
   "outputs": [],
   "source": [
    "# Reshaping the nested numpy arrays\n",
    "for i in range(len(normalized_data)):\n",
    "    normalized_data[i] = np.reshape(normalized_data[i],\n",
    "                                    normalized_data[i].shape[2])"
   ]
  },
  {
   "cell_type": "code",
   "execution_count": 30,
   "metadata": {
    "hidden": true
   },
   "outputs": [],
   "source": [
    "# Converting encoded to string format\n",
    "str_converter = Normalized2String(vocab)\n",
    "for i in range(len(normalized_data)):\n",
    "    normalized_data[i]=str_converter.to_str(normalized_data[i])"
   ]
  },
  {
   "cell_type": "markdown",
   "metadata": {
    "hidden": true
   },
   "source": [
    "A sneak peek..."
   ]
  },
  {
   "cell_type": "code",
   "execution_count": 31,
   "metadata": {
    "hidden": true
   },
   "outputs": [
    {
     "data": {
      "text/plain": [
       "'х_trans о_trans л_trans т_trans'"
      ]
     },
     "execution_count": 31,
     "metadata": {},
     "output_type": "execute_result"
    }
   ],
   "source": [
    "normalized_data[10]"
   ]
  },
  {
   "cell_type": "markdown",
   "metadata": {
    "hidden": true
   },
   "source": [
    "**Merging Normalized with Remain Self**"
   ]
  },
  {
   "cell_type": "code",
   "execution_count": 32,
   "metadata": {
    "hidden": true
   },
   "outputs": [],
   "source": [
    "classified_data['after'] = ''"
   ]
  },
  {
   "cell_type": "markdown",
   "metadata": {
    "hidden": true
   },
   "source": [
    "Normalized"
   ]
  },
  {
   "cell_type": "code",
   "execution_count": 33,
   "metadata": {
    "hidden": true
   },
   "outputs": [],
   "source": [
    "classified_data.loc[id_tobenormalized, 'after'] = normalized_data\n"
   ]
  },
  {
   "cell_type": "markdown",
   "metadata": {
    "hidden": true
   },
   "source": [
    "RemainSelf"
   ]
  },
  {
   "cell_type": "code",
   "execution_count": 34,
   "metadata": {
    "hidden": true
   },
   "outputs": [],
   "source": [
    "classified_data.loc[id_remainself, 'after'] = classified_data.loc[id_remainself, 'before'] "
   ]
  },
  {
   "cell_type": "markdown",
   "metadata": {
    "hidden": true
   },
   "source": [
    "A sneak peek into the final results..."
   ]
  },
  {
   "cell_type": "code",
   "execution_count": 35,
   "metadata": {
    "hidden": true
   },
   "outputs": [
    {
     "data": {
      "text/html": [
       "<div>\n",
       "<style scoped>\n",
       "    .dataframe tbody tr th:only-of-type {\n",
       "        vertical-align: middle;\n",
       "    }\n",
       "\n",
       "    .dataframe tbody tr th {\n",
       "        vertical-align: top;\n",
       "    }\n",
       "\n",
       "    .dataframe thead th {\n",
       "        text-align: right;\n",
       "    }\n",
       "</style>\n",
       "<table border=\"1\" class=\"dataframe\">\n",
       "  <thead>\n",
       "    <tr style=\"text-align: right;\">\n",
       "      <th></th>\n",
       "      <th>sentence_id</th>\n",
       "      <th>token_id</th>\n",
       "      <th>semiotic</th>\n",
       "      <th>before</th>\n",
       "      <th>class</th>\n",
       "      <th>after</th>\n",
       "    </tr>\n",
       "  </thead>\n",
       "  <tbody>\n",
       "    <tr>\n",
       "      <th>1924</th>\n",
       "      <td>143</td>\n",
       "      <td>1</td>\n",
       "      <td>PLAIN</td>\n",
       "      <td>клинские</td>\n",
       "      <td>RemainSelf</td>\n",
       "      <td>клинские</td>\n",
       "    </tr>\n",
       "    <tr>\n",
       "      <th>10195</th>\n",
       "      <td>758</td>\n",
       "      <td>3</td>\n",
       "      <td>PLAIN</td>\n",
       "      <td>рискнуть</td>\n",
       "      <td>RemainSelf</td>\n",
       "      <td>рискнуть</td>\n",
       "    </tr>\n",
       "    <tr>\n",
       "      <th>20262</th>\n",
       "      <td>1473</td>\n",
       "      <td>8</td>\n",
       "      <td>PUNCT</td>\n",
       "      <td>.</td>\n",
       "      <td>RemainSelf</td>\n",
       "      <td>.</td>\n",
       "    </tr>\n",
       "    <tr>\n",
       "      <th>13018</th>\n",
       "      <td>965</td>\n",
       "      <td>8</td>\n",
       "      <td>PLAIN</td>\n",
       "      <td>водного</td>\n",
       "      <td>RemainSelf</td>\n",
       "      <td>водного</td>\n",
       "    </tr>\n",
       "    <tr>\n",
       "      <th>11986</th>\n",
       "      <td>887</td>\n",
       "      <td>16</td>\n",
       "      <td>CARDINAL</td>\n",
       "      <td>350500</td>\n",
       "      <td>ToBeNormalized</td>\n",
       "      <td>трехсот пятидесяти тысяч пятисот</td>\n",
       "    </tr>\n",
       "    <tr>\n",
       "      <th>80871</th>\n",
       "      <td>5913</td>\n",
       "      <td>4</td>\n",
       "      <td>PLAIN</td>\n",
       "      <td>понять</td>\n",
       "      <td>RemainSelf</td>\n",
       "      <td>понять</td>\n",
       "    </tr>\n",
       "    <tr>\n",
       "      <th>57639</th>\n",
       "      <td>4197</td>\n",
       "      <td>12</td>\n",
       "      <td>PLAIN</td>\n",
       "      <td>солдат</td>\n",
       "      <td>RemainSelf</td>\n",
       "      <td>солдат</td>\n",
       "    </tr>\n",
       "    <tr>\n",
       "      <th>91708</th>\n",
       "      <td>6703</td>\n",
       "      <td>4</td>\n",
       "      <td>PUNCT</td>\n",
       "      <td>(</td>\n",
       "      <td>RemainSelf</td>\n",
       "      <td>(</td>\n",
       "    </tr>\n",
       "    <tr>\n",
       "      <th>76077</th>\n",
       "      <td>5558</td>\n",
       "      <td>13</td>\n",
       "      <td>PUNCT</td>\n",
       "      <td>.</td>\n",
       "      <td>RemainSelf</td>\n",
       "      <td>.</td>\n",
       "    </tr>\n",
       "    <tr>\n",
       "      <th>19627</th>\n",
       "      <td>1425</td>\n",
       "      <td>3</td>\n",
       "      <td>VERBATIM</td>\n",
       "      <td>і</td>\n",
       "      <td>RemainSelf</td>\n",
       "      <td>і</td>\n",
       "    </tr>\n",
       "  </tbody>\n",
       "</table>\n",
       "</div>"
      ],
      "text/plain": [
       "       sentence_id  token_id  semiotic    before           class  \\\n",
       "1924           143         1     PLAIN  клинские      RemainSelf   \n",
       "10195          758         3     PLAIN  рискнуть      RemainSelf   \n",
       "20262         1473         8     PUNCT         .      RemainSelf   \n",
       "13018          965         8     PLAIN   водного      RemainSelf   \n",
       "11986          887        16  CARDINAL    350500  ToBeNormalized   \n",
       "80871         5913         4     PLAIN    понять      RemainSelf   \n",
       "57639         4197        12     PLAIN    солдат      RemainSelf   \n",
       "91708         6703         4     PUNCT         (      RemainSelf   \n",
       "76077         5558        13     PUNCT         .      RemainSelf   \n",
       "19627         1425         3  VERBATIM         і      RemainSelf   \n",
       "\n",
       "                                  after  \n",
       "1924                           клинские  \n",
       "10195                          рискнуть  \n",
       "20262                                 .  \n",
       "13018                           водного  \n",
       "11986  трехсот пятидесяти тысяч пятисот  \n",
       "80871                            понять  \n",
       "57639                            солдат  \n",
       "91708                                 (  \n",
       "76077                                 .  \n",
       "19627                                 і  "
      ]
     },
     "execution_count": 35,
     "metadata": {},
     "output_type": "execute_result"
    }
   ],
   "source": [
    "classified_data.sample(10)"
   ]
  },
  {
   "cell_type": "markdown",
   "metadata": {
    "hidden": true
   },
   "source": [
    "Store the results"
   ]
  },
  {
   "cell_type": "code",
   "execution_count": 36,
   "metadata": {
    "hidden": true
   },
   "outputs": [],
   "source": [
    "classified_data.to_csv(result_dir+result_csv, index=False)"
   ]
  },
  {
   "cell_type": "markdown",
   "metadata": {},
   "source": [
    "## 8. Results Analysis\n",
    "<a id=\"result\"></a>"
   ]
  },
  {
   "cell_type": "code",
   "execution_count": 7,
   "metadata": {},
   "outputs": [],
   "source": [
    "results = pd.read_csv(result_dir+result_csv)\n",
    "truth = pd.read_csv(data)"
   ]
  },
  {
   "cell_type": "markdown",
   "metadata": {},
   "source": [
    "**Overall Accuracy**"
   ]
  },
  {
   "cell_type": "code",
   "execution_count": 8,
   "metadata": {},
   "outputs": [],
   "source": [
    "score = accuracy_score(truth['after'].tolist(),\n",
    "                       results['after'].tolist())"
   ]
  },
  {
   "cell_type": "code",
   "execution_count": 9,
   "metadata": {},
   "outputs": [
    {
     "name": "stdout",
     "output_type": "stream",
     "text": [
      "Accuracy on english language is 0.99533\n"
     ]
    }
   ],
   "source": [
    "print('Accuracy on {} language is {:.5f}'.format(lang, score))"
   ]
  },
  {
   "cell_type": "markdown",
   "metadata": {},
   "source": [
    "**Semiotic class-wise accuracy**"
   ]
  },
  {
   "cell_type": "code",
   "execution_count": 10,
   "metadata": {},
   "outputs": [],
   "source": [
    "results_group = results.groupby('semiotic')\n",
    "truth_group = truth.groupby('semiotic')"
   ]
  },
  {
   "cell_type": "code",
   "execution_count": 11,
   "metadata": {},
   "outputs": [],
   "source": [
    "class_accuracy = pd.DataFrame(columns=['semiotic-class', 'accuracy', 'count', 'correct'])\n",
    "row = {'semiotic-class': 'ALL',\n",
    "       'accuracy': score,\n",
    "       'count': results.shape[0],\n",
    "       'correct': score*results.shape[0]}\n",
    "class_accuracy = class_accuracy.append(row, ignore_index=True)\n",
    "\n",
    "for results_items, truth_items in zip(results_group, truth_group):\n",
    "    semiotic_class = results_items[0]\n",
    "    results_items = results_items[1]\n",
    "    truth_items = truth_items[1]\n",
    "    score = accuracy_score(truth_items['after'].tolist(),\n",
    "                          results_items['after'].tolist())\n",
    "    row = {'semiotic-class': semiotic_class,\n",
    "           'accuracy': score,\n",
    "           'count': results_items.shape[0],\n",
    "           'correct': score*results_items.shape[0]}\n",
    "    class_accuracy = class_accuracy.append(row, ignore_index=True)\n",
    "class_accuracy['correct'] = class_accuracy['correct'].astype(int)"
   ]
  },
  {
   "cell_type": "code",
   "execution_count": 12,
   "metadata": {},
   "outputs": [
    {
     "data": {
      "text/html": [
       "<div>\n",
       "<style scoped>\n",
       "    .dataframe tbody tr th:only-of-type {\n",
       "        vertical-align: middle;\n",
       "    }\n",
       "\n",
       "    .dataframe tbody tr th {\n",
       "        vertical-align: top;\n",
       "    }\n",
       "\n",
       "    .dataframe thead th {\n",
       "        text-align: right;\n",
       "    }\n",
       "</style>\n",
       "<table border=\"1\" class=\"dataframe\">\n",
       "  <thead>\n",
       "    <tr style=\"text-align: right;\">\n",
       "      <th></th>\n",
       "      <th>semiotic-class</th>\n",
       "      <th>accuracy</th>\n",
       "      <th>count</th>\n",
       "      <th>correct</th>\n",
       "    </tr>\n",
       "  </thead>\n",
       "  <tbody>\n",
       "    <tr>\n",
       "      <th>0</th>\n",
       "      <td>ALL</td>\n",
       "      <td>0.995327</td>\n",
       "      <td>92451</td>\n",
       "      <td>92019</td>\n",
       "    </tr>\n",
       "    <tr>\n",
       "      <th>1</th>\n",
       "      <td>ADDRESS</td>\n",
       "      <td>1.000000</td>\n",
       "      <td>4</td>\n",
       "      <td>4</td>\n",
       "    </tr>\n",
       "    <tr>\n",
       "      <th>2</th>\n",
       "      <td>CARDINAL</td>\n",
       "      <td>0.991321</td>\n",
       "      <td>1037</td>\n",
       "      <td>1028</td>\n",
       "    </tr>\n",
       "    <tr>\n",
       "      <th>3</th>\n",
       "      <td>DATE</td>\n",
       "      <td>0.997528</td>\n",
       "      <td>2832</td>\n",
       "      <td>2825</td>\n",
       "    </tr>\n",
       "    <tr>\n",
       "      <th>4</th>\n",
       "      <td>DECIMAL</td>\n",
       "      <td>1.000000</td>\n",
       "      <td>92</td>\n",
       "      <td>92</td>\n",
       "    </tr>\n",
       "    <tr>\n",
       "      <th>5</th>\n",
       "      <td>DIGIT</td>\n",
       "      <td>0.863636</td>\n",
       "      <td>44</td>\n",
       "      <td>38</td>\n",
       "    </tr>\n",
       "    <tr>\n",
       "      <th>6</th>\n",
       "      <td>ELECTRONIC</td>\n",
       "      <td>0.000000</td>\n",
       "      <td>49</td>\n",
       "      <td>0</td>\n",
       "    </tr>\n",
       "    <tr>\n",
       "      <th>7</th>\n",
       "      <td>FRACTION</td>\n",
       "      <td>0.625000</td>\n",
       "      <td>16</td>\n",
       "      <td>10</td>\n",
       "    </tr>\n",
       "    <tr>\n",
       "      <th>8</th>\n",
       "      <td>LETTERS</td>\n",
       "      <td>0.931867</td>\n",
       "      <td>1409</td>\n",
       "      <td>1313</td>\n",
       "    </tr>\n",
       "    <tr>\n",
       "      <th>9</th>\n",
       "      <td>MEASURE</td>\n",
       "      <td>0.971831</td>\n",
       "      <td>142</td>\n",
       "      <td>138</td>\n",
       "    </tr>\n",
       "    <tr>\n",
       "      <th>10</th>\n",
       "      <td>MONEY</td>\n",
       "      <td>0.945946</td>\n",
       "      <td>37</td>\n",
       "      <td>35</td>\n",
       "    </tr>\n",
       "    <tr>\n",
       "      <th>11</th>\n",
       "      <td>ORDINAL</td>\n",
       "      <td>0.951456</td>\n",
       "      <td>103</td>\n",
       "      <td>98</td>\n",
       "    </tr>\n",
       "    <tr>\n",
       "      <th>12</th>\n",
       "      <td>PLAIN</td>\n",
       "      <td>0.998395</td>\n",
       "      <td>67894</td>\n",
       "      <td>67785</td>\n",
       "    </tr>\n",
       "    <tr>\n",
       "      <th>13</th>\n",
       "      <td>PUNCT</td>\n",
       "      <td>0.999549</td>\n",
       "      <td>17746</td>\n",
       "      <td>17738</td>\n",
       "    </tr>\n",
       "    <tr>\n",
       "      <th>14</th>\n",
       "      <td>TELEPHONE</td>\n",
       "      <td>0.918919</td>\n",
       "      <td>37</td>\n",
       "      <td>34</td>\n",
       "    </tr>\n",
       "    <tr>\n",
       "      <th>15</th>\n",
       "      <td>TIME</td>\n",
       "      <td>0.750000</td>\n",
       "      <td>8</td>\n",
       "      <td>6</td>\n",
       "    </tr>\n",
       "    <tr>\n",
       "      <th>16</th>\n",
       "      <td>VERBATIM</td>\n",
       "      <td>0.874126</td>\n",
       "      <td>1001</td>\n",
       "      <td>875</td>\n",
       "    </tr>\n",
       "  </tbody>\n",
       "</table>\n",
       "</div>"
      ],
      "text/plain": [
       "   semiotic-class  accuracy  count  correct\n",
       "0             ALL  0.995327  92451    92019\n",
       "1         ADDRESS  1.000000      4        4\n",
       "2        CARDINAL  0.991321   1037     1028\n",
       "3            DATE  0.997528   2832     2825\n",
       "4         DECIMAL  1.000000     92       92\n",
       "5           DIGIT  0.863636     44       38\n",
       "6      ELECTRONIC  0.000000     49        0\n",
       "7        FRACTION  0.625000     16       10\n",
       "8         LETTERS  0.931867   1409     1313\n",
       "9         MEASURE  0.971831    142      138\n",
       "10          MONEY  0.945946     37       35\n",
       "11        ORDINAL  0.951456    103       98\n",
       "12          PLAIN  0.998395  67894    67785\n",
       "13          PUNCT  0.999549  17746    17738\n",
       "14      TELEPHONE  0.918919     37       34\n",
       "15           TIME  0.750000      8        6\n",
       "16       VERBATIM  0.874126   1001      875"
      ]
     },
     "execution_count": 12,
     "metadata": {},
     "output_type": "execute_result"
    }
   ],
   "source": [
    "class_accuracy"
   ]
  },
  {
   "cell_type": "code",
   "execution_count": 13,
   "metadata": {},
   "outputs": [
    {
     "name": "stderr",
     "output_type": "stream",
     "text": [
      "/home/aman/anaconda3/envs/deep-tf/lib/python3.6/site-packages/pandas/plotting/_core.py:1714: UserWarning: Pandas doesn't allow columns to be created via a new attribute name - see https://pandas.pydata.org/pandas-docs/stable/indexing.html#attribute-access\n",
      "  series.name = label\n"
     ]
    },
    {
     "data": {
      "image/png": "[encoded data removed]",
      "text/plain": [
       "<matplotlib.figure.Figure at 0x7f9f39e4c898>"
      ]
     },
     "metadata": {},
     "output_type": "display_data"
    }
   ],
   "source": [
    "class_accuracy.plot(title='Semiotic Class-wise Accuracy',\n",
    "                    y=['count', 'correct'], x='semiotic-class',\n",
    "                    kind='bar', figsize=(20,10), grid=True)\n",
    "plt.savefig(result_dir+'Semiotic_Class-wise_Accuracy.png')"
   ]
  },
  {
   "cell_type": "code",
   "execution_count": 14,
   "metadata": {},
   "outputs": [],
   "source": [
    "class_accuracy.to_csv(result_dir+'classwise_accuracy.csv')"
   ]
  },
  {
   "cell_type": "markdown",
   "metadata": {},
   "source": [
    "**Normalization Mistakes**"
   ]
  },
  {
   "cell_type": "code",
   "execution_count": 15,
   "metadata": {},
   "outputs": [],
   "source": [
    "mistake_mask = (results['after'] != truth['after'])\n",
    "mistakes = results[mistake_mask]\n",
    "mistakes = mistakes.assign(truth = truth.loc[mistake_mask, 'after'])"
   ]
  },
  {
   "cell_type": "code",
   "execution_count": 16,
   "metadata": {},
   "outputs": [
    {
     "data": {
      "text/html": [
       "<div>\n",
       "<style scoped>\n",
       "    .dataframe tbody tr th:only-of-type {\n",
       "        vertical-align: middle;\n",
       "    }\n",
       "\n",
       "    .dataframe tbody tr th {\n",
       "        vertical-align: top;\n",
       "    }\n",
       "\n",
       "    .dataframe thead th {\n",
       "        text-align: right;\n",
       "    }\n",
       "</style>\n",
       "<table border=\"1\" class=\"dataframe\">\n",
       "  <thead>\n",
       "    <tr style=\"text-align: right;\">\n",
       "      <th></th>\n",
       "      <th>sentence_id</th>\n",
       "      <th>token_id</th>\n",
       "      <th>semiotic</th>\n",
       "      <th>before</th>\n",
       "      <th>class</th>\n",
       "      <th>after</th>\n",
       "      <th>truth</th>\n",
       "    </tr>\n",
       "  </thead>\n",
       "  <tbody>\n",
       "    <tr>\n",
       "      <th>17043</th>\n",
       "      <td>1369</td>\n",
       "      <td>0</td>\n",
       "      <td>PLAIN</td>\n",
       "      <td>CY</td>\n",
       "      <td>ToBeNormalized</td>\n",
       "      <td>c y</td>\n",
       "      <td>CY</td>\n",
       "    </tr>\n",
       "    <tr>\n",
       "      <th>49698</th>\n",
       "      <td>4085</td>\n",
       "      <td>16</td>\n",
       "      <td>VERBATIM</td>\n",
       "      <td>Α</td>\n",
       "      <td>ToBeNormalized</td>\n",
       "      <td>&lt;UNK&gt;</td>\n",
       "      <td>alpha</td>\n",
       "    </tr>\n",
       "    <tr>\n",
       "      <th>65343</th>\n",
       "      <td>5371</td>\n",
       "      <td>3</td>\n",
       "      <td>PLAIN</td>\n",
       "      <td>odour</td>\n",
       "      <td>RemainSelf</td>\n",
       "      <td>odour</td>\n",
       "      <td>odor</td>\n",
       "    </tr>\n",
       "    <tr>\n",
       "      <th>73186</th>\n",
       "      <td>6009</td>\n",
       "      <td>8</td>\n",
       "      <td>PLAIN</td>\n",
       "      <td>PAC</td>\n",
       "      <td>ToBeNormalized</td>\n",
       "      <td>p a c</td>\n",
       "      <td>PAC</td>\n",
       "    </tr>\n",
       "    <tr>\n",
       "      <th>90483</th>\n",
       "      <td>7385</td>\n",
       "      <td>1</td>\n",
       "      <td>LETTERS</td>\n",
       "      <td>Suat</td>\n",
       "      <td>RemainSelf</td>\n",
       "      <td>Suat</td>\n",
       "      <td>s u a t</td>\n",
       "    </tr>\n",
       "    <tr>\n",
       "      <th>35568</th>\n",
       "      <td>2925</td>\n",
       "      <td>4</td>\n",
       "      <td>VERBATIM</td>\n",
       "      <td>ggFTW</td>\n",
       "      <td>RemainSelf</td>\n",
       "      <td>ggFTW</td>\n",
       "      <td>g g f t w</td>\n",
       "    </tr>\n",
       "    <tr>\n",
       "      <th>78309</th>\n",
       "      <td>6410</td>\n",
       "      <td>19</td>\n",
       "      <td>PLAIN</td>\n",
       "      <td>DID</td>\n",
       "      <td>ToBeNormalized</td>\n",
       "      <td>d i d</td>\n",
       "      <td>DID</td>\n",
       "    </tr>\n",
       "    <tr>\n",
       "      <th>49714</th>\n",
       "      <td>4085</td>\n",
       "      <td>32</td>\n",
       "      <td>VERBATIM</td>\n",
       "      <td>Η</td>\n",
       "      <td>ToBeNormalized</td>\n",
       "      <td>&lt;UNK&gt;</td>\n",
       "      <td>eta</td>\n",
       "    </tr>\n",
       "    <tr>\n",
       "      <th>38743</th>\n",
       "      <td>3162</td>\n",
       "      <td>1</td>\n",
       "      <td>ELECTRONIC</td>\n",
       "      <td>informationhttp://dynamic.stlouis-mo.gov/censu...</td>\n",
       "      <td>ToBeNormalized</td>\n",
       "      <td>i n f o r m a t i o n h t t p c o l o n s l a ...</td>\n",
       "      <td>i_letter  _letter n_letter  _letter f_letter  ...</td>\n",
       "    </tr>\n",
       "    <tr>\n",
       "      <th>49746</th>\n",
       "      <td>4085</td>\n",
       "      <td>64</td>\n",
       "      <td>VERBATIM</td>\n",
       "      <td>Β</td>\n",
       "      <td>ToBeNormalized</td>\n",
       "      <td>&lt;UNK&gt;</td>\n",
       "      <td>beta</td>\n",
       "    </tr>\n",
       "  </tbody>\n",
       "</table>\n",
       "</div>"
      ],
      "text/plain": [
       "       sentence_id  token_id    semiotic  \\\n",
       "17043         1369         0       PLAIN   \n",
       "49698         4085        16    VERBATIM   \n",
       "65343         5371         3       PLAIN   \n",
       "73186         6009         8       PLAIN   \n",
       "90483         7385         1     LETTERS   \n",
       "35568         2925         4    VERBATIM   \n",
       "78309         6410        19       PLAIN   \n",
       "49714         4085        32    VERBATIM   \n",
       "38743         3162         1  ELECTRONIC   \n",
       "49746         4085        64    VERBATIM   \n",
       "\n",
       "                                                  before           class  \\\n",
       "17043                                                 CY  ToBeNormalized   \n",
       "49698                                                  Α  ToBeNormalized   \n",
       "65343                                              odour      RemainSelf   \n",
       "73186                                                PAC  ToBeNormalized   \n",
       "90483                                               Suat      RemainSelf   \n",
       "35568                                              ggFTW      RemainSelf   \n",
       "78309                                                DID  ToBeNormalized   \n",
       "49714                                                  Η  ToBeNormalized   \n",
       "38743  informationhttp://dynamic.stlouis-mo.gov/censu...  ToBeNormalized   \n",
       "49746                                                  Β  ToBeNormalized   \n",
       "\n",
       "                                                   after  \\\n",
       "17043                                                c y   \n",
       "49698                                              <UNK>   \n",
       "65343                                              odour   \n",
       "73186                                              p a c   \n",
       "90483                                               Suat   \n",
       "35568                                              ggFTW   \n",
       "78309                                              d i d   \n",
       "49714                                              <UNK>   \n",
       "38743  i n f o r m a t i o n h t t p c o l o n s l a ...   \n",
       "49746                                              <UNK>   \n",
       "\n",
       "                                                   truth  \n",
       "17043                                                 CY  \n",
       "49698                                              alpha  \n",
       "65343                                               odor  \n",
       "73186                                                PAC  \n",
       "90483                                            s u a t  \n",
       "35568                                          g g f t w  \n",
       "78309                                                DID  \n",
       "49714                                                eta  \n",
       "38743  i_letter  _letter n_letter  _letter f_letter  ...  \n",
       "49746                                               beta  "
      ]
     },
     "execution_count": 16,
     "metadata": {},
     "output_type": "execute_result"
    }
   ],
   "source": [
    "mistakes.sample(10)"
   ]
  },
  {
   "cell_type": "markdown",
   "metadata": {},
   "source": [
    "**Class-wise mistakes**"
   ]
  },
  {
   "cell_type": "code",
   "execution_count": 18,
   "metadata": {},
   "outputs": [],
   "source": [
    "mistakes_grouped = mistakes.groupby('semiotic')"
   ]
  },
  {
   "cell_type": "code",
   "execution_count": 19,
   "metadata": {},
   "outputs": [
    {
     "data": {
      "text/html": [
       "<div>\n",
       "<style scoped>\n",
       "    .dataframe tbody tr th:only-of-type {\n",
       "        vertical-align: middle;\n",
       "    }\n",
       "\n",
       "    .dataframe tbody tr th {\n",
       "        vertical-align: top;\n",
       "    }\n",
       "\n",
       "    .dataframe thead th {\n",
       "        text-align: right;\n",
       "    }\n",
       "</style>\n",
       "<table border=\"1\" class=\"dataframe\">\n",
       "  <thead>\n",
       "    <tr style=\"text-align: right;\">\n",
       "      <th></th>\n",
       "      <th></th>\n",
       "      <th>sentence_id</th>\n",
       "      <th>token_id</th>\n",
       "      <th>semiotic</th>\n",
       "      <th>before</th>\n",
       "      <th>class</th>\n",
       "      <th>after</th>\n",
       "      <th>truth</th>\n",
       "    </tr>\n",
       "    <tr>\n",
       "      <th>semiotic</th>\n",
       "      <th></th>\n",
       "      <th></th>\n",
       "      <th></th>\n",
       "      <th></th>\n",
       "      <th></th>\n",
       "      <th></th>\n",
       "      <th></th>\n",
       "      <th></th>\n",
       "    </tr>\n",
       "  </thead>\n",
       "  <tbody>\n",
       "    <tr>\n",
       "      <th rowspan=\"3\" valign=\"top\">CARDINAL</th>\n",
       "      <th>13202</th>\n",
       "      <td>1060</td>\n",
       "      <td>2</td>\n",
       "      <td>CARDINAL</td>\n",
       "      <td>21</td>\n",
       "      <td>ToBeNormalized</td>\n",
       "      <td>two one</td>\n",
       "      <td>twenty one</td>\n",
       "    </tr>\n",
       "    <tr>\n",
       "      <th>40541</th>\n",
       "      <td>3311</td>\n",
       "      <td>8</td>\n",
       "      <td>CARDINAL</td>\n",
       "      <td>X</td>\n",
       "      <td>RemainSelf</td>\n",
       "      <td>X</td>\n",
       "      <td>ten</td>\n",
       "    </tr>\n",
       "    <tr>\n",
       "      <th>13202</th>\n",
       "      <td>1060</td>\n",
       "      <td>2</td>\n",
       "      <td>CARDINAL</td>\n",
       "      <td>21</td>\n",
       "      <td>ToBeNormalized</td>\n",
       "      <td>two one</td>\n",
       "      <td>twenty one</td>\n",
       "    </tr>\n",
       "    <tr>\n",
       "      <th rowspan=\"3\" valign=\"top\">DATE</th>\n",
       "      <th>49265</th>\n",
       "      <td>4049</td>\n",
       "      <td>1</td>\n",
       "      <td>DATE</td>\n",
       "      <td>2011</td>\n",
       "      <td>ToBeNormalized</td>\n",
       "      <td>two o one one</td>\n",
       "      <td>twenty eleven</td>\n",
       "    </tr>\n",
       "    <tr>\n",
       "      <th>69318</th>\n",
       "      <td>5699</td>\n",
       "      <td>5</td>\n",
       "      <td>DATE</td>\n",
       "      <td>the 15 May</td>\n",
       "      <td>RemainSelf</td>\n",
       "      <td>the 15 May</td>\n",
       "      <td>the fifteenth of may</td>\n",
       "    </tr>\n",
       "    <tr>\n",
       "      <th>48286</th>\n",
       "      <td>3967</td>\n",
       "      <td>11</td>\n",
       "      <td>DATE</td>\n",
       "      <td>14-04-2014</td>\n",
       "      <td>ToBeNormalized</td>\n",
       "      <td>the fourteenth of april fourteen forty</td>\n",
       "      <td>the fourteenth of april twenty fourteen</td>\n",
       "    </tr>\n",
       "    <tr>\n",
       "      <th rowspan=\"3\" valign=\"top\">DIGIT</th>\n",
       "      <th>17657</th>\n",
       "      <td>1414</td>\n",
       "      <td>2</td>\n",
       "      <td>DIGIT</td>\n",
       "      <td>450</td>\n",
       "      <td>ToBeNormalized</td>\n",
       "      <td>four hundred fifty</td>\n",
       "      <td>four five o</td>\n",
       "    </tr>\n",
       "    <tr>\n",
       "      <th>36933</th>\n",
       "      <td>3024</td>\n",
       "      <td>13</td>\n",
       "      <td>DIGIT</td>\n",
       "      <td>11</td>\n",
       "      <td>ToBeNormalized</td>\n",
       "      <td>eleven</td>\n",
       "      <td>one one</td>\n",
       "    </tr>\n",
       "    <tr>\n",
       "      <th>77390</th>\n",
       "      <td>6339</td>\n",
       "      <td>2</td>\n",
       "      <td>DIGIT</td>\n",
       "      <td>2013</td>\n",
       "      <td>ToBeNormalized</td>\n",
       "      <td>twenty thirteen</td>\n",
       "      <td>two o one three</td>\n",
       "    </tr>\n",
       "    <tr>\n",
       "      <th rowspan=\"3\" valign=\"top\">ELECTRONIC</th>\n",
       "      <th>24389</th>\n",
       "      <td>1969</td>\n",
       "      <td>0</td>\n",
       "      <td>ELECTRONIC</td>\n",
       "      <td>BioLib.cz</td>\n",
       "      <td>ToBeNormalized</td>\n",
       "      <td>b i o l i b dot c z</td>\n",
       "      <td>b_letter i_letter o_letter l_letter i_letter b...</td>\n",
       "    </tr>\n",
       "    <tr>\n",
       "      <th>68600</th>\n",
       "      <td>5644</td>\n",
       "      <td>9</td>\n",
       "      <td>ELECTRONIC</td>\n",
       "      <td>Gizmodo.com</td>\n",
       "      <td>ToBeNormalized</td>\n",
       "      <td>g i z m o d o dot c o m</td>\n",
       "      <td>g_letter i_letter z_letter m_letter o_letter d...</td>\n",
       "    </tr>\n",
       "    <tr>\n",
       "      <th>66566</th>\n",
       "      <td>5479</td>\n",
       "      <td>2</td>\n",
       "      <td>ELECTRONIC</td>\n",
       "      <td>bumpworthy.com</td>\n",
       "      <td>ToBeNormalized</td>\n",
       "      <td>b u m p w o r t h y dot c o m</td>\n",
       "      <td>b_letter u_letter m_letter p_letter w_letter o...</td>\n",
       "    </tr>\n",
       "    <tr>\n",
       "      <th rowspan=\"3\" valign=\"top\">FRACTION</th>\n",
       "      <th>3887</th>\n",
       "      <td>309</td>\n",
       "      <td>0</td>\n",
       "      <td>FRACTION</td>\n",
       "      <td>1/0</td>\n",
       "      <td>ToBeNormalized</td>\n",
       "      <td>one zero</td>\n",
       "      <td>one zeroth</td>\n",
       "    </tr>\n",
       "    <tr>\n",
       "      <th>5633</th>\n",
       "      <td>455</td>\n",
       "      <td>3</td>\n",
       "      <td>FRACTION</td>\n",
       "      <td>10/618,543</td>\n",
       "      <td>ToBeNormalized</td>\n",
       "      <td>ten six hundred eighteen thousand five hundred...</td>\n",
       "      <td>ten six hundred eighteen thousand five hundred...</td>\n",
       "    </tr>\n",
       "    <tr>\n",
       "      <th>3887</th>\n",
       "      <td>309</td>\n",
       "      <td>0</td>\n",
       "      <td>FRACTION</td>\n",
       "      <td>1/0</td>\n",
       "      <td>ToBeNormalized</td>\n",
       "      <td>one zero</td>\n",
       "      <td>one zeroth</td>\n",
       "    </tr>\n",
       "    <tr>\n",
       "      <th rowspan=\"3\" valign=\"top\">LETTERS</th>\n",
       "      <th>10413</th>\n",
       "      <td>830</td>\n",
       "      <td>9</td>\n",
       "      <td>LETTERS</td>\n",
       "      <td>GEOPE</td>\n",
       "      <td>RemainSelf</td>\n",
       "      <td>GEOPE</td>\n",
       "      <td>g e o p e</td>\n",
       "    </tr>\n",
       "    <tr>\n",
       "      <th>83179</th>\n",
       "      <td>6800</td>\n",
       "      <td>15</td>\n",
       "      <td>LETTERS</td>\n",
       "      <td>DIMETHYL-</td>\n",
       "      <td>RemainSelf</td>\n",
       "      <td>DIMETHYL-</td>\n",
       "      <td>d i m e t h y l</td>\n",
       "    </tr>\n",
       "    <tr>\n",
       "      <th>31863</th>\n",
       "      <td>2622</td>\n",
       "      <td>8</td>\n",
       "      <td>LETTERS</td>\n",
       "      <td>AT</td>\n",
       "      <td>RemainSelf</td>\n",
       "      <td>AT</td>\n",
       "      <td>a t</td>\n",
       "    </tr>\n",
       "    <tr>\n",
       "      <th rowspan=\"3\" valign=\"top\">MEASURE</th>\n",
       "      <th>2023</th>\n",
       "      <td>156</td>\n",
       "      <td>3</td>\n",
       "      <td>MEASURE</td>\n",
       "      <td>0.001251 g/cm3</td>\n",
       "      <td>ToBeNormalized</td>\n",
       "      <td>zero point o o one two five one sil g s l a s ...</td>\n",
       "      <td>zero point o o one two five one grams per c c</td>\n",
       "    </tr>\n",
       "    <tr>\n",
       "      <th>51723</th>\n",
       "      <td>4244</td>\n",
       "      <td>12</td>\n",
       "      <td>MEASURE</td>\n",
       "      <td>2 mA</td>\n",
       "      <td>ToBeNormalized</td>\n",
       "      <td>two miles</td>\n",
       "      <td>two milli amperes</td>\n",
       "    </tr>\n",
       "    <tr>\n",
       "      <th>81418</th>\n",
       "      <td>6654</td>\n",
       "      <td>20</td>\n",
       "      <td>MEASURE</td>\n",
       "      <td>1220m</td>\n",
       "      <td>ToBeNormalized</td>\n",
       "      <td>one thousand two hundred meters</td>\n",
       "      <td>one thousand two hundred twenty meters</td>\n",
       "    </tr>\n",
       "    <tr>\n",
       "      <th rowspan=\"3\" valign=\"top\">MONEY</th>\n",
       "      <th>70524</th>\n",
       "      <td>5793</td>\n",
       "      <td>4</td>\n",
       "      <td>MONEY</td>\n",
       "      <td>Rs.10</td>\n",
       "      <td>ToBeNormalized</td>\n",
       "      <td>ten ten</td>\n",
       "      <td>ten rupees</td>\n",
       "    </tr>\n",
       "    <tr>\n",
       "      <th>21543</th>\n",
       "      <td>1726</td>\n",
       "      <td>11</td>\n",
       "      <td>MONEY</td>\n",
       "      <td>88.5 million HRK</td>\n",
       "      <td>ToBeNormalized</td>\n",
       "      <td>eighty eight point five million</td>\n",
       "      <td>eighty eight point five million croatian kunas</td>\n",
       "    </tr>\n",
       "    <tr>\n",
       "      <th>21543</th>\n",
       "      <td>1726</td>\n",
       "      <td>11</td>\n",
       "      <td>MONEY</td>\n",
       "      <td>88.5 million HRK</td>\n",
       "      <td>ToBeNormalized</td>\n",
       "      <td>eighty eight point five million</td>\n",
       "      <td>eighty eight point five million croatian kunas</td>\n",
       "    </tr>\n",
       "    <tr>\n",
       "      <th rowspan=\"3\" valign=\"top\">ORDINAL</th>\n",
       "      <th>87089</th>\n",
       "      <td>7120</td>\n",
       "      <td>15</td>\n",
       "      <td>ORDINAL</td>\n",
       "      <td>XIII</td>\n",
       "      <td>ToBeNormalized</td>\n",
       "      <td>thirteen</td>\n",
       "      <td>the thirteenth</td>\n",
       "    </tr>\n",
       "    <tr>\n",
       "      <th>81338</th>\n",
       "      <td>6650</td>\n",
       "      <td>8</td>\n",
       "      <td>ORDINAL</td>\n",
       "      <td>I</td>\n",
       "      <td>RemainSelf</td>\n",
       "      <td>I</td>\n",
       "      <td>the first</td>\n",
       "    </tr>\n",
       "    <tr>\n",
       "      <th>50278</th>\n",
       "      <td>4128</td>\n",
       "      <td>3</td>\n",
       "      <td>ORDINAL</td>\n",
       "      <td>V</td>\n",
       "      <td>RemainSelf</td>\n",
       "      <td>V</td>\n",
       "      <td>the fifth</td>\n",
       "    </tr>\n",
       "    <tr>\n",
       "      <th rowspan=\"3\" valign=\"top\">PLAIN</th>\n",
       "      <th>48087</th>\n",
       "      <td>3952</td>\n",
       "      <td>6</td>\n",
       "      <td>PLAIN</td>\n",
       "      <td>Xtra</td>\n",
       "      <td>ToBeNormalized</td>\n",
       "      <td>x t r a</td>\n",
       "      <td>Xtra</td>\n",
       "    </tr>\n",
       "    <tr>\n",
       "      <th>60414</th>\n",
       "      <td>4960</td>\n",
       "      <td>1</td>\n",
       "      <td>PLAIN</td>\n",
       "      <td>secularisation</td>\n",
       "      <td>RemainSelf</td>\n",
       "      <td>secularisation</td>\n",
       "      <td>secularization</td>\n",
       "    </tr>\n",
       "    <tr>\n",
       "      <th>91255</th>\n",
       "      <td>7440</td>\n",
       "      <td>5</td>\n",
       "      <td>PLAIN</td>\n",
       "      <td>GO</td>\n",
       "      <td>ToBeNormalized</td>\n",
       "      <td>g o</td>\n",
       "      <td>GO</td>\n",
       "    </tr>\n",
       "    <tr>\n",
       "      <th rowspan=\"3\" valign=\"top\">PUNCT</th>\n",
       "      <th>27858</th>\n",
       "      <td>2275</td>\n",
       "      <td>1</td>\n",
       "      <td>PUNCT</td>\n",
       "      <td>-</td>\n",
       "      <td>ToBeNormalized</td>\n",
       "      <td>to</td>\n",
       "      <td>-</td>\n",
       "    </tr>\n",
       "    <tr>\n",
       "      <th>55676</th>\n",
       "      <td>4572</td>\n",
       "      <td>1</td>\n",
       "      <td>PUNCT</td>\n",
       "      <td>-</td>\n",
       "      <td>ToBeNormalized</td>\n",
       "      <td>to</td>\n",
       "      <td>-</td>\n",
       "    </tr>\n",
       "    <tr>\n",
       "      <th>55676</th>\n",
       "      <td>4572</td>\n",
       "      <td>1</td>\n",
       "      <td>PUNCT</td>\n",
       "      <td>-</td>\n",
       "      <td>ToBeNormalized</td>\n",
       "      <td>to</td>\n",
       "      <td>-</td>\n",
       "    </tr>\n",
       "    <tr>\n",
       "      <th rowspan=\"3\" valign=\"top\">TELEPHONE</th>\n",
       "      <th>51054</th>\n",
       "      <td>4189</td>\n",
       "      <td>6</td>\n",
       "      <td>TELEPHONE</td>\n",
       "      <td>1999-2000 BCA</td>\n",
       "      <td>ToBeNormalized</td>\n",
       "      <td>one nine nine nine sil two o o sil b c a</td>\n",
       "      <td>one nine nine nine sil two thousand sil b c a</td>\n",
       "    </tr>\n",
       "    <tr>\n",
       "      <th>80858</th>\n",
       "      <td>6612</td>\n",
       "      <td>8</td>\n",
       "      <td>TELEPHONE</td>\n",
       "      <td>978-94-007-3962-8</td>\n",
       "      <td>ToBeNormalized</td>\n",
       "      <td>nine seven eight sil nine four sil o o o seven...</td>\n",
       "      <td>nine seven eight sil nine four sil o o seven s...</td>\n",
       "    </tr>\n",
       "    <tr>\n",
       "      <th>51054</th>\n",
       "      <td>4189</td>\n",
       "      <td>6</td>\n",
       "      <td>TELEPHONE</td>\n",
       "      <td>1999-2000 BCA</td>\n",
       "      <td>ToBeNormalized</td>\n",
       "      <td>one nine nine nine sil two o o sil b c a</td>\n",
       "      <td>one nine nine nine sil two thousand sil b c a</td>\n",
       "    </tr>\n",
       "    <tr>\n",
       "      <th rowspan=\"3\" valign=\"top\">TIME</th>\n",
       "      <th>88776</th>\n",
       "      <td>7250</td>\n",
       "      <td>3</td>\n",
       "      <td>TIME</td>\n",
       "      <td>0:02:01</td>\n",
       "      <td>ToBeNormalized</td>\n",
       "      <td>zero hours two minutes and one seconds</td>\n",
       "      <td>zero hours two minutes and one second</td>\n",
       "    </tr>\n",
       "    <tr>\n",
       "      <th>88069</th>\n",
       "      <td>7196</td>\n",
       "      <td>10</td>\n",
       "      <td>TIME</td>\n",
       "      <td>18:00:00Z</td>\n",
       "      <td>ToBeNormalized</td>\n",
       "      <td>eighteen hours o minutes and zero seconds z</td>\n",
       "      <td>eighteen hours zero minutes and zero seconds z</td>\n",
       "    </tr>\n",
       "    <tr>\n",
       "      <th>88776</th>\n",
       "      <td>7250</td>\n",
       "      <td>3</td>\n",
       "      <td>TIME</td>\n",
       "      <td>0:02:01</td>\n",
       "      <td>ToBeNormalized</td>\n",
       "      <td>zero hours two minutes and one seconds</td>\n",
       "      <td>zero hours two minutes and one second</td>\n",
       "    </tr>\n",
       "    <tr>\n",
       "      <th rowspan=\"3\" valign=\"top\">VERBATIM</th>\n",
       "      <th>49737</th>\n",
       "      <td>4085</td>\n",
       "      <td>55</td>\n",
       "      <td>VERBATIM</td>\n",
       "      <td>Ο</td>\n",
       "      <td>ToBeNormalized</td>\n",
       "      <td>&lt;UNK&gt;</td>\n",
       "      <td>omicron</td>\n",
       "    </tr>\n",
       "    <tr>\n",
       "      <th>86696</th>\n",
       "      <td>7086</td>\n",
       "      <td>4</td>\n",
       "      <td>VERBATIM</td>\n",
       "      <td>Ngn</td>\n",
       "      <td>RemainSelf</td>\n",
       "      <td>Ngn</td>\n",
       "      <td>n g n</td>\n",
       "    </tr>\n",
       "    <tr>\n",
       "      <th>49744</th>\n",
       "      <td>4085</td>\n",
       "      <td>62</td>\n",
       "      <td>VERBATIM</td>\n",
       "      <td>Θ</td>\n",
       "      <td>ToBeNormalized</td>\n",
       "      <td>&lt;UNK&gt;</td>\n",
       "      <td>theta</td>\n",
       "    </tr>\n",
       "  </tbody>\n",
       "</table>\n",
       "</div>"
      ],
      "text/plain": [
       "                  sentence_id  token_id    semiotic             before  \\\n",
       "semiotic                                                                 \n",
       "CARDINAL   13202         1060         2    CARDINAL                 21   \n",
       "           40541         3311         8    CARDINAL                  X   \n",
       "           13202         1060         2    CARDINAL                 21   \n",
       "DATE       49265         4049         1        DATE               2011   \n",
       "           69318         5699         5        DATE         the 15 May   \n",
       "           48286         3967        11        DATE         14-04-2014   \n",
       "DIGIT      17657         1414         2       DIGIT                450   \n",
       "           36933         3024        13       DIGIT                 11   \n",
       "           77390         6339         2       DIGIT               2013   \n",
       "ELECTRONIC 24389         1969         0  ELECTRONIC          BioLib.cz   \n",
       "           68600         5644         9  ELECTRONIC        Gizmodo.com   \n",
       "           66566         5479         2  ELECTRONIC     bumpworthy.com   \n",
       "FRACTION   3887           309         0    FRACTION                1/0   \n",
       "           5633           455         3    FRACTION         10/618,543   \n",
       "           3887           309         0    FRACTION                1/0   \n",
       "LETTERS    10413          830         9     LETTERS              GEOPE   \n",
       "           83179         6800        15     LETTERS          DIMETHYL-   \n",
       "           31863         2622         8     LETTERS                 AT   \n",
       "MEASURE    2023           156         3     MEASURE     0.001251 g/cm3   \n",
       "           51723         4244        12     MEASURE               2 mA   \n",
       "           81418         6654        20     MEASURE              1220m   \n",
       "MONEY      70524         5793         4       MONEY              Rs.10   \n",
       "           21543         1726        11       MONEY   88.5 million HRK   \n",
       "           21543         1726        11       MONEY   88.5 million HRK   \n",
       "ORDINAL    87089         7120        15     ORDINAL               XIII   \n",
       "           81338         6650         8     ORDINAL                  I   \n",
       "           50278         4128         3     ORDINAL                  V   \n",
       "PLAIN      48087         3952         6       PLAIN               Xtra   \n",
       "           60414         4960         1       PLAIN     secularisation   \n",
       "           91255         7440         5       PLAIN                 GO   \n",
       "PUNCT      27858         2275         1       PUNCT                  -   \n",
       "           55676         4572         1       PUNCT                  -   \n",
       "           55676         4572         1       PUNCT                  -   \n",
       "TELEPHONE  51054         4189         6   TELEPHONE      1999-2000 BCA   \n",
       "           80858         6612         8   TELEPHONE  978-94-007-3962-8   \n",
       "           51054         4189         6   TELEPHONE      1999-2000 BCA   \n",
       "TIME       88776         7250         3        TIME            0:02:01   \n",
       "           88069         7196        10        TIME          18:00:00Z   \n",
       "           88776         7250         3        TIME            0:02:01   \n",
       "VERBATIM   49737         4085        55    VERBATIM                  Ο   \n",
       "           86696         7086         4    VERBATIM                Ngn   \n",
       "           49744         4085        62    VERBATIM                  Θ   \n",
       "\n",
       "                           class  \\\n",
       "semiotic                           \n",
       "CARDINAL   13202  ToBeNormalized   \n",
       "           40541      RemainSelf   \n",
       "           13202  ToBeNormalized   \n",
       "DATE       49265  ToBeNormalized   \n",
       "           69318      RemainSelf   \n",
       "           48286  ToBeNormalized   \n",
       "DIGIT      17657  ToBeNormalized   \n",
       "           36933  ToBeNormalized   \n",
       "           77390  ToBeNormalized   \n",
       "ELECTRONIC 24389  ToBeNormalized   \n",
       "           68600  ToBeNormalized   \n",
       "           66566  ToBeNormalized   \n",
       "FRACTION   3887   ToBeNormalized   \n",
       "           5633   ToBeNormalized   \n",
       "           3887   ToBeNormalized   \n",
       "LETTERS    10413      RemainSelf   \n",
       "           83179      RemainSelf   \n",
       "           31863      RemainSelf   \n",
       "MEASURE    2023   ToBeNormalized   \n",
       "           51723  ToBeNormalized   \n",
       "           81418  ToBeNormalized   \n",
       "MONEY      70524  ToBeNormalized   \n",
       "           21543  ToBeNormalized   \n",
       "           21543  ToBeNormalized   \n",
       "ORDINAL    87089  ToBeNormalized   \n",
       "           81338      RemainSelf   \n",
       "           50278      RemainSelf   \n",
       "PLAIN      48087  ToBeNormalized   \n",
       "           60414      RemainSelf   \n",
       "           91255  ToBeNormalized   \n",
       "PUNCT      27858  ToBeNormalized   \n",
       "           55676  ToBeNormalized   \n",
       "           55676  ToBeNormalized   \n",
       "TELEPHONE  51054  ToBeNormalized   \n",
       "           80858  ToBeNormalized   \n",
       "           51054  ToBeNormalized   \n",
       "TIME       88776  ToBeNormalized   \n",
       "           88069  ToBeNormalized   \n",
       "           88776  ToBeNormalized   \n",
       "VERBATIM   49737  ToBeNormalized   \n",
       "           86696      RemainSelf   \n",
       "           49744  ToBeNormalized   \n",
       "\n",
       "                                                              after  \\\n",
       "semiotic                                                              \n",
       "CARDINAL   13202                                            two one   \n",
       "           40541                                                  X   \n",
       "           13202                                            two one   \n",
       "DATE       49265                                      two o one one   \n",
       "           69318                                         the 15 May   \n",
       "           48286             the fourteenth of april fourteen forty   \n",
       "DIGIT      17657                                 four hundred fifty   \n",
       "           36933                                             eleven   \n",
       "           77390                                    twenty thirteen   \n",
       "ELECTRONIC 24389                                b i o l i b dot c z   \n",
       "           68600                            g i z m o d o dot c o m   \n",
       "           66566                      b u m p w o r t h y dot c o m   \n",
       "FRACTION   3887                                            one zero   \n",
       "           5633   ten six hundred eighteen thousand five hundred...   \n",
       "           3887                                            one zero   \n",
       "LETTERS    10413                                              GEOPE   \n",
       "           83179                                          DIMETHYL-   \n",
       "           31863                                                 AT   \n",
       "MEASURE    2023   zero point o o one two five one sil g s l a s ...   \n",
       "           51723                                          two miles   \n",
       "           81418                    one thousand two hundred meters   \n",
       "MONEY      70524                                            ten ten   \n",
       "           21543                    eighty eight point five million   \n",
       "           21543                    eighty eight point five million   \n",
       "ORDINAL    87089                                           thirteen   \n",
       "           81338                                                  I   \n",
       "           50278                                                  V   \n",
       "PLAIN      48087                                            x t r a   \n",
       "           60414                                     secularisation   \n",
       "           91255                                                g o   \n",
       "PUNCT      27858                                                 to   \n",
       "           55676                                                 to   \n",
       "           55676                                                 to   \n",
       "TELEPHONE  51054           one nine nine nine sil two o o sil b c a   \n",
       "           80858  nine seven eight sil nine four sil o o o seven...   \n",
       "           51054           one nine nine nine sil two o o sil b c a   \n",
       "TIME       88776             zero hours two minutes and one seconds   \n",
       "           88069        eighteen hours o minutes and zero seconds z   \n",
       "           88776             zero hours two minutes and one seconds   \n",
       "VERBATIM   49737                                              <UNK>   \n",
       "           86696                                                Ngn   \n",
       "           49744                                              <UNK>   \n",
       "\n",
       "                                                              truth  \n",
       "semiotic                                                             \n",
       "CARDINAL   13202                                         twenty one  \n",
       "           40541                                                ten  \n",
       "           13202                                         twenty one  \n",
       "DATE       49265                                      twenty eleven  \n",
       "           69318                               the fifteenth of may  \n",
       "           48286            the fourteenth of april twenty fourteen  \n",
       "DIGIT      17657                                        four five o  \n",
       "           36933                                            one one  \n",
       "           77390                                    two o one three  \n",
       "ELECTRONIC 24389  b_letter i_letter o_letter l_letter i_letter b...  \n",
       "           68600  g_letter i_letter z_letter m_letter o_letter d...  \n",
       "           66566  b_letter u_letter m_letter p_letter w_letter o...  \n",
       "FRACTION   3887                                          one zeroth  \n",
       "           5633   ten six hundred eighteen thousand five hundred...  \n",
       "           3887                                          one zeroth  \n",
       "LETTERS    10413                                          g e o p e  \n",
       "           83179                                    d i m e t h y l  \n",
       "           31863                                                a t  \n",
       "MEASURE    2023       zero point o o one two five one grams per c c  \n",
       "           51723                                  two milli amperes  \n",
       "           81418             one thousand two hundred twenty meters  \n",
       "MONEY      70524                                         ten rupees  \n",
       "           21543     eighty eight point five million croatian kunas  \n",
       "           21543     eighty eight point five million croatian kunas  \n",
       "ORDINAL    87089                                     the thirteenth  \n",
       "           81338                                          the first  \n",
       "           50278                                          the fifth  \n",
       "PLAIN      48087                                               Xtra  \n",
       "           60414                                     secularization  \n",
       "           91255                                                 GO  \n",
       "PUNCT      27858                                                  -  \n",
       "           55676                                                  -  \n",
       "           55676                                                  -  \n",
       "TELEPHONE  51054      one nine nine nine sil two thousand sil b c a  \n",
       "           80858  nine seven eight sil nine four sil o o seven s...  \n",
       "           51054      one nine nine nine sil two thousand sil b c a  \n",
       "TIME       88776              zero hours two minutes and one second  \n",
       "           88069     eighteen hours zero minutes and zero seconds z  \n",
       "           88776              zero hours two minutes and one second  \n",
       "VERBATIM   49737                                            omicron  \n",
       "           86696                                              n g n  \n",
       "           49744                                              theta  "
      ]
     },
     "execution_count": 19,
     "metadata": {},
     "output_type": "execute_result"
    }
   ],
   "source": [
    "mistakes_grouped.apply(lambda x: x.sample(n=3, replace=True))"
   ]
  },
  {
   "cell_type": "code",
   "execution_count": 20,
   "metadata": {},
   "outputs": [],
   "source": [
    "mistakes.to_csv(result_dir+'mistakes.csv')"
   ]
  },
  {
   "cell_type": "markdown",
   "metadata": {},
   "source": [
    "## 9. Conclusion\n",
    "<a id=\"conclusion\"></a>"
   ]
  },
  {
   "cell_type": "markdown",
   "metadata": {},
   "source": [
    "**English Normalization Accuracy: 0.99533 **"
   ]
  },
  {
   "cell_type": "markdown",
   "metadata": {},
   "source": [
    "**Russian Normalization Accuracy: 0.99222**"
   ]
  },
  {
   "cell_type": "markdown",
   "metadata": {},
   "source": [
    "**For the Test dataset downloaded from Kaggle**  \n",
    "- English Accuracy : **0.99463**  \n",
    "Data Source : [https://www.kaggle.com/c/text-normalization-challenge-english-language/download/en_test.csv.zip]  \n",
    "Ground Truth : [https://kaggle2.blob.core.windows.net/forum-message-attachments/243663/7914/en_solution.csv.zip]  \n",
    "\n",
    "  \n",
    "  \n",
    "- Russian  \n",
    "Data Source : [https://www.kaggle.com/c/text-normalization-challenge-russian-language/download/ru_test.csv.zip]  \n",
    "Ground Truth : [https://kaggle2.blob.core.windows.net/forum-message-attachments/243682/7915/ru_solution.csv.zip]  \n"
   ]
  },
  {
   "cell_type": "markdown",
   "metadata": {},
   "source": [
    "___"
   ]
  }
 ],
 "metadata": {
  "kernelspec": {
   "display_name": "Python 3",
   "language": "python",
   "name": "python3"
  },
  "language_info": {
   "codemirror_mode": {
    "name": "ipython",
    "version": 3
   },
   "file_extension": ".py",
   "mimetype": "text/x-python",
   "name": "python",
   "nbconvert_exporter": "python",
   "pygments_lexer": "ipython3",
   "version": "3.6.4"
  }
 },
 "nbformat": 4,
 "nbformat_minor": 2
}
