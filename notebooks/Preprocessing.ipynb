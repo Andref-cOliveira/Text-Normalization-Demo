{
 "cells": [
  {
   "cell_type": "markdown",
   "metadata": {},
   "source": [
    "# Data Preprocessing\n",
    "---"
   ]
  },
  {
   "cell_type": "markdown",
   "metadata": {},
   "source": [
    "These notebooks and the accompanying paper [https://arxiv.org/?] demonstrates an accuracy of 99.4% (English) and 99.3% (Russian) on the Text Normalization Challenge by Richard Sproat and Navdeep Jaitly. To achieve comparable and objective results, we need to preprocess the data provided by Richard Sproat and Navdeep Jaitly at [https://github.com/rwsproat/text-normalization-data]. From the README of the dataset:\n",
    "```\n",
    "In practice for the results reported in the paper only the first 100,002 lines\n",
    "of output-00099-of-00100 were used (for English), and the first 100,007 lines of\n",
    "output-00099-of-00100 for Russian.\n",
    "```\n",
    "Hence, the 'output-00099-of-00100' file is extracted for further use. \n",
    "This notebook prepares the raw data for the next stage of normalization."
   ]
  },
  {
   "cell_type": "markdown",
   "metadata": {},
   "source": [
    "## Import Libraries"
   ]
  },
  {
   "cell_type": "code",
   "execution_count": 1,
   "metadata": {
    "collapsed": true
   },
   "outputs": [],
   "source": [
    "import numpy as np\n",
    "import pandas as pd\n",
    "import seaborn as sns\n",
    "import matplotlib.pyplot as plt\n",
    "\n",
    "%matplotlib inline"
   ]
  },
  {
   "cell_type": "markdown",
   "metadata": {},
   "source": [
    "## Global Config\n",
    "**Language : English or Russian?**"
   ]
  },
  {
   "cell_type": "code",
   "execution_count": 2,
   "metadata": {
    "collapsed": true
   },
   "outputs": [],
   "source": [
    "lang = 'english'\n",
    "# lang = 'russian'"
   ]
  },
  {
   "cell_type": "code",
   "execution_count": 3,
   "metadata": {
    "collapsed": true
   },
   "outputs": [],
   "source": [
    "if lang == 'english':\n",
    "    # input data\n",
    "    data_directory = '../data/english/'\n",
    "    data = 'output-00099-of-00100'\n",
    "    # output\n",
    "    out = 'output-00099-of-00100_processed.csv'\n",
    "    # test size \n",
    "    test_rows = 100002\n",
    "    \n",
    "elif lang == 'russian':\n",
    "    # input data\n",
    "    data_directory = '../data/russian/'\n",
    "    data = 'output-00099-of-00100'\n",
    "    # output\n",
    "    out = 'output-00099-of-00100_processed.csv'\n",
    "    # test size\n",
    "    test_rows = 100007"
   ]
  },
  {
   "cell_type": "markdown",
   "metadata": {},
   "source": [
    "## Load Data"
   ]
  },
  {
   "cell_type": "markdown",
   "metadata": {},
   "source": [
    "By default, Pandas treats double quote as enclosing an entry so it includes all tabs and newlines in that entry until it reaches the next quote. To escape it we need to have the quoting argument set to QUOTE_NONE or 3 as given in the documentation - [https://pandas.pydata.org/pandas-docs/stable/generated/pandas.read_csv.html]\n"
   ]
  },
  {
   "cell_type": "code",
   "execution_count": 4,
   "metadata": {},
   "outputs": [
    {
     "name": "stdout",
     "output_type": "stream",
     "text": [
      "<class 'pandas.core.frame.DataFrame'>\n",
      "RangeIndex: 100002 entries, 0 to 100001\n",
      "Data columns (total 3 columns):\n",
      "semiotic    100002 non-null object\n",
      "before      100002 non-null object\n",
      "after       92451 non-null object\n",
      "dtypes: object(3)\n",
      "memory usage: 2.3+ MB\n"
     ]
    }
   ],
   "source": [
    "raw_data = pd.read_csv(data_directory+data, nrows=test_rows,\n",
    "                       header=None, sep='\\t', quoting = 3,\n",
    "                       names=['semiotic', 'before', 'after'])\n",
    "raw_data.info()"
   ]
  },
  {
   "cell_type": "code",
   "execution_count": 5,
   "metadata": {},
   "outputs": [
    {
     "data": {
      "text/html": [
       "<div>\n",
       "<style scoped>\n",
       "    .dataframe tbody tr th:only-of-type {\n",
       "        vertical-align: middle;\n",
       "    }\n",
       "\n",
       "    .dataframe tbody tr th {\n",
       "        vertical-align: top;\n",
       "    }\n",
       "\n",
       "    .dataframe thead th {\n",
       "        text-align: right;\n",
       "    }\n",
       "</style>\n",
       "<table border=\"1\" class=\"dataframe\">\n",
       "  <thead>\n",
       "    <tr style=\"text-align: right;\">\n",
       "      <th></th>\n",
       "      <th>semiotic</th>\n",
       "      <th>before</th>\n",
       "      <th>after</th>\n",
       "    </tr>\n",
       "  </thead>\n",
       "  <tbody>\n",
       "    <tr>\n",
       "      <th>0</th>\n",
       "      <td>PLAIN</td>\n",
       "      <td>It</td>\n",
       "      <td>&lt;self&gt;</td>\n",
       "    </tr>\n",
       "    <tr>\n",
       "      <th>1</th>\n",
       "      <td>PLAIN</td>\n",
       "      <td>can</td>\n",
       "      <td>&lt;self&gt;</td>\n",
       "    </tr>\n",
       "    <tr>\n",
       "      <th>2</th>\n",
       "      <td>PLAIN</td>\n",
       "      <td>be</td>\n",
       "      <td>&lt;self&gt;</td>\n",
       "    </tr>\n",
       "    <tr>\n",
       "      <th>3</th>\n",
       "      <td>PLAIN</td>\n",
       "      <td>summarized</td>\n",
       "      <td>&lt;self&gt;</td>\n",
       "    </tr>\n",
       "    <tr>\n",
       "      <th>4</th>\n",
       "      <td>PLAIN</td>\n",
       "      <td>as</td>\n",
       "      <td>&lt;self&gt;</td>\n",
       "    </tr>\n",
       "    <tr>\n",
       "      <th>5</th>\n",
       "      <td>PLAIN</td>\n",
       "      <td>an</td>\n",
       "      <td>&lt;self&gt;</td>\n",
       "    </tr>\n",
       "    <tr>\n",
       "      <th>6</th>\n",
       "      <td>PUNCT</td>\n",
       "      <td>\"</td>\n",
       "      <td>sil</td>\n",
       "    </tr>\n",
       "    <tr>\n",
       "      <th>7</th>\n",
       "      <td>PLAIN</td>\n",
       "      <td>error</td>\n",
       "      <td>&lt;self&gt;</td>\n",
       "    </tr>\n",
       "    <tr>\n",
       "      <th>8</th>\n",
       "      <td>PLAIN</td>\n",
       "      <td>driven</td>\n",
       "      <td>&lt;self&gt;</td>\n",
       "    </tr>\n",
       "    <tr>\n",
       "      <th>9</th>\n",
       "      <td>PLAIN</td>\n",
       "      <td>transformation</td>\n",
       "      <td>&lt;self&gt;</td>\n",
       "    </tr>\n",
       "  </tbody>\n",
       "</table>\n",
       "</div>"
      ],
      "text/plain": [
       "  semiotic          before   after\n",
       "0    PLAIN              It  <self>\n",
       "1    PLAIN             can  <self>\n",
       "2    PLAIN              be  <self>\n",
       "3    PLAIN      summarized  <self>\n",
       "4    PLAIN              as  <self>\n",
       "5    PLAIN              an  <self>\n",
       "6    PUNCT               \"     sil\n",
       "7    PLAIN           error  <self>\n",
       "8    PLAIN          driven  <self>\n",
       "9    PLAIN  transformation  <self>"
      ]
     },
     "execution_count": 5,
     "metadata": {},
     "output_type": "execute_result"
    }
   ],
   "source": [
    "raw_data.head(10)"
   ]
  },
  {
   "cell_type": "markdown",
   "metadata": {},
   "source": [
    "## Data Analysis"
   ]
  },
  {
   "cell_type": "markdown",
   "metadata": {},
   "source": [
    "**What are the different type of semiotic classes available?**"
   ]
  },
  {
   "cell_type": "code",
   "execution_count": 6,
   "metadata": {},
   "outputs": [
    {
     "data": {
      "text/plain": [
       "PLAIN         67894\n",
       "PUNCT         17746\n",
       "<eos>          7551\n",
       "DATE           2832\n",
       "LETTERS        1409\n",
       "CARDINAL       1037\n",
       "VERBATIM       1001\n",
       "MEASURE         142\n",
       "ORDINAL         103\n",
       "DECIMAL          92\n",
       "ELECTRONIC       49\n",
       "DIGIT            44\n",
       "MONEY            37\n",
       "TELEPHONE        37\n",
       "FRACTION         16\n",
       "TIME              8\n",
       "ADDRESS           4\n",
       "Name: semiotic, dtype: int64"
      ]
     },
     "execution_count": 6,
     "metadata": {},
     "output_type": "execute_result"
    }
   ],
   "source": [
    "raw_data['semiotic'].value_counts()"
   ]
  },
  {
   "cell_type": "markdown",
   "metadata": {},
   "source": [
    "The semiotic classes mentioned in the paper are:\n",
    "\n",
    "1. PLAIN\n",
    "2. PUNCT\n",
    "3. DATE\n",
    "4. TRANS\n",
    "5. LETTERS\n",
    "6. CARDINAL\n",
    "7. VERBATIM\n",
    "8. MEASURE\n",
    "9. ORDINAL\n",
    "10. DECIMAL\n",
    "11. ELECTRONIC\n",
    "12. DIGIT\n",
    "13. MONEY\n",
    "14. FRACTION\n",
    "15. TIME\n"
   ]
  },
  {
   "cell_type": "markdown",
   "metadata": {},
   "source": [
    "## Data Preprocessing"
   ]
  },
  {
   "cell_type": "markdown",
   "metadata": {},
   "source": [
    "**Generating sentence and word token ids**"
   ]
  },
  {
   "cell_type": "markdown",
   "metadata": {},
   "source": [
    "Our text normalization approach requires sentence and token ids to encode and generate batches"
   ]
  },
  {
   "cell_type": "code",
   "execution_count": 7,
   "metadata": {
    "collapsed": true
   },
   "outputs": [],
   "source": [
    "# to avoid modifying something we are iterating over\n",
    "data = pd.DataFrame(columns=['sentence_id',\n",
    "                             'token_id',\n",
    "                             'semiotic',\n",
    "                             'before',\n",
    "                             'after'])\n",
    "# initialize columns and iterator\n",
    "sentence_id = 0\n",
    "token_id = -1"
   ]
  },
  {
   "cell_type": "code",
   "execution_count": 8,
   "metadata": {
    "collapsed": true
   },
   "outputs": [],
   "source": [
    "for row in raw_data.itertuples():\n",
    "    # look for end of sentences\n",
    "    if (row.semiotic == '<eos>' and row.before == '<eos>'):\n",
    "        sentence_id += 1\n",
    "        token_id = -1\n",
    "        continue\n",
    "    else:\n",
    "        token_id += 1\n",
    "        \n",
    "    new_row = {'sentence_id': sentence_id,\n",
    "               'token_id': token_id,\n",
    "               'semiotic': row.semiotic,\n",
    "               'before': row.before,\n",
    "               'after': row.after}\n",
    "    data = data.append(new_row, ignore_index=True)    "
   ]
  },
  {
   "cell_type": "code",
   "execution_count": 9,
   "metadata": {},
   "outputs": [
    {
     "data": {
      "text/html": [
       "<div>\n",
       "<style scoped>\n",
       "    .dataframe tbody tr th:only-of-type {\n",
       "        vertical-align: middle;\n",
       "    }\n",
       "\n",
       "    .dataframe tbody tr th {\n",
       "        vertical-align: top;\n",
       "    }\n",
       "\n",
       "    .dataframe thead th {\n",
       "        text-align: right;\n",
       "    }\n",
       "</style>\n",
       "<table border=\"1\" class=\"dataframe\">\n",
       "  <thead>\n",
       "    <tr style=\"text-align: right;\">\n",
       "      <th></th>\n",
       "      <th>sentence_id</th>\n",
       "      <th>token_id</th>\n",
       "      <th>semiotic</th>\n",
       "      <th>before</th>\n",
       "      <th>after</th>\n",
       "    </tr>\n",
       "  </thead>\n",
       "  <tbody>\n",
       "    <tr>\n",
       "      <th>0</th>\n",
       "      <td>0</td>\n",
       "      <td>0</td>\n",
       "      <td>PLAIN</td>\n",
       "      <td>It</td>\n",
       "      <td>&lt;self&gt;</td>\n",
       "    </tr>\n",
       "    <tr>\n",
       "      <th>1</th>\n",
       "      <td>0</td>\n",
       "      <td>1</td>\n",
       "      <td>PLAIN</td>\n",
       "      <td>can</td>\n",
       "      <td>&lt;self&gt;</td>\n",
       "    </tr>\n",
       "    <tr>\n",
       "      <th>2</th>\n",
       "      <td>0</td>\n",
       "      <td>2</td>\n",
       "      <td>PLAIN</td>\n",
       "      <td>be</td>\n",
       "      <td>&lt;self&gt;</td>\n",
       "    </tr>\n",
       "    <tr>\n",
       "      <th>3</th>\n",
       "      <td>0</td>\n",
       "      <td>3</td>\n",
       "      <td>PLAIN</td>\n",
       "      <td>summarized</td>\n",
       "      <td>&lt;self&gt;</td>\n",
       "    </tr>\n",
       "    <tr>\n",
       "      <th>4</th>\n",
       "      <td>0</td>\n",
       "      <td>4</td>\n",
       "      <td>PLAIN</td>\n",
       "      <td>as</td>\n",
       "      <td>&lt;self&gt;</td>\n",
       "    </tr>\n",
       "    <tr>\n",
       "      <th>5</th>\n",
       "      <td>0</td>\n",
       "      <td>5</td>\n",
       "      <td>PLAIN</td>\n",
       "      <td>an</td>\n",
       "      <td>&lt;self&gt;</td>\n",
       "    </tr>\n",
       "    <tr>\n",
       "      <th>6</th>\n",
       "      <td>0</td>\n",
       "      <td>6</td>\n",
       "      <td>PUNCT</td>\n",
       "      <td>\"</td>\n",
       "      <td>sil</td>\n",
       "    </tr>\n",
       "    <tr>\n",
       "      <th>7</th>\n",
       "      <td>0</td>\n",
       "      <td>7</td>\n",
       "      <td>PLAIN</td>\n",
       "      <td>error</td>\n",
       "      <td>&lt;self&gt;</td>\n",
       "    </tr>\n",
       "    <tr>\n",
       "      <th>8</th>\n",
       "      <td>0</td>\n",
       "      <td>8</td>\n",
       "      <td>PLAIN</td>\n",
       "      <td>driven</td>\n",
       "      <td>&lt;self&gt;</td>\n",
       "    </tr>\n",
       "    <tr>\n",
       "      <th>9</th>\n",
       "      <td>0</td>\n",
       "      <td>9</td>\n",
       "      <td>PLAIN</td>\n",
       "      <td>transformation</td>\n",
       "      <td>&lt;self&gt;</td>\n",
       "    </tr>\n",
       "  </tbody>\n",
       "</table>\n",
       "</div>"
      ],
      "text/plain": [
       "  sentence_id token_id semiotic          before   after\n",
       "0           0        0    PLAIN              It  <self>\n",
       "1           0        1    PLAIN             can  <self>\n",
       "2           0        2    PLAIN              be  <self>\n",
       "3           0        3    PLAIN      summarized  <self>\n",
       "4           0        4    PLAIN              as  <self>\n",
       "5           0        5    PLAIN              an  <self>\n",
       "6           0        6    PUNCT               \"     sil\n",
       "7           0        7    PLAIN           error  <self>\n",
       "8           0        8    PLAIN          driven  <self>\n",
       "9           0        9    PLAIN  transformation  <self>"
      ]
     },
     "execution_count": 9,
     "metadata": {},
     "output_type": "execute_result"
    }
   ],
   "source": [
    "data.head(10)"
   ]
  },
  {
   "cell_type": "markdown",
   "metadata": {},
   "source": [
    "**Transforming 'after' tokens**  \n",
    "From the above mentioned paper:\n",
    "```\n",
    "Semiotic class instances are verbalized as sequences\n",
    "of fully spelled words, most ordinary words are left alone (rep-\n",
    "resented here as <self>), and punctuation symbols are mostly\n",
    "transduced to sil (for “silence”).\n",
    "```\n",
    "Hence we transform as follows:\n",
    "1. sil is replaced with < self >\n",
    "2. < self > is replaced with the before column\n"
   ]
  },
  {
   "cell_type": "code",
   "execution_count": 10,
   "metadata": {
    "collapsed": true
   },
   "outputs": [],
   "source": [
    "sil_mask = (data['after'] == 'sil')\n",
    "data.loc[sil_mask, 'after'] = '<self>' "
   ]
  },
  {
   "cell_type": "code",
   "execution_count": 11,
   "metadata": {
    "collapsed": true
   },
   "outputs": [],
   "source": [
    "self_mask = (data['after'] == '<self>')\n",
    "data.loc[self_mask, ('after')] = data.loc[self_mask, 'before']"
   ]
  },
  {
   "cell_type": "markdown",
   "metadata": {},
   "source": [
    "Sanity Check..."
   ]
  },
  {
   "cell_type": "code",
   "execution_count": 12,
   "metadata": {},
   "outputs": [
    {
     "data": {
      "text/html": [
       "<div>\n",
       "<style scoped>\n",
       "    .dataframe tbody tr th:only-of-type {\n",
       "        vertical-align: middle;\n",
       "    }\n",
       "\n",
       "    .dataframe tbody tr th {\n",
       "        vertical-align: top;\n",
       "    }\n",
       "\n",
       "    .dataframe thead th {\n",
       "        text-align: right;\n",
       "    }\n",
       "</style>\n",
       "<table border=\"1\" class=\"dataframe\">\n",
       "  <thead>\n",
       "    <tr style=\"text-align: right;\">\n",
       "      <th></th>\n",
       "      <th>sentence_id</th>\n",
       "      <th>token_id</th>\n",
       "      <th>semiotic</th>\n",
       "      <th>before</th>\n",
       "      <th>after</th>\n",
       "    </tr>\n",
       "  </thead>\n",
       "  <tbody>\n",
       "    <tr>\n",
       "      <th>27604</th>\n",
       "      <td>2255</td>\n",
       "      <td>1</td>\n",
       "      <td>PUNCT</td>\n",
       "      <td>:</td>\n",
       "      <td>:</td>\n",
       "    </tr>\n",
       "    <tr>\n",
       "      <th>23472</th>\n",
       "      <td>1886</td>\n",
       "      <td>3</td>\n",
       "      <td>PUNCT</td>\n",
       "      <td>:</td>\n",
       "      <td>:</td>\n",
       "    </tr>\n",
       "    <tr>\n",
       "      <th>33683</th>\n",
       "      <td>2775</td>\n",
       "      <td>15</td>\n",
       "      <td>PUNCT</td>\n",
       "      <td>,</td>\n",
       "      <td>,</td>\n",
       "    </tr>\n",
       "    <tr>\n",
       "      <th>69723</th>\n",
       "      <td>5727</td>\n",
       "      <td>4</td>\n",
       "      <td>PUNCT</td>\n",
       "      <td>,</td>\n",
       "      <td>,</td>\n",
       "    </tr>\n",
       "    <tr>\n",
       "      <th>74352</th>\n",
       "      <td>6093</td>\n",
       "      <td>11</td>\n",
       "      <td>PUNCT</td>\n",
       "      <td>.</td>\n",
       "      <td>.</td>\n",
       "    </tr>\n",
       "  </tbody>\n",
       "</table>\n",
       "</div>"
      ],
      "text/plain": [
       "      sentence_id token_id semiotic before after\n",
       "27604        2255        1    PUNCT      :     :\n",
       "23472        1886        3    PUNCT      :     :\n",
       "33683        2775       15    PUNCT      ,     ,\n",
       "69723        5727        4    PUNCT      ,     ,\n",
       "74352        6093       11    PUNCT      .     ."
      ]
     },
     "execution_count": 12,
     "metadata": {},
     "output_type": "execute_result"
    }
   ],
   "source": [
    "data[sil_mask].sample(5)"
   ]
  },
  {
   "cell_type": "code",
   "execution_count": 13,
   "metadata": {},
   "outputs": [
    {
     "data": {
      "text/html": [
       "<div>\n",
       "<style scoped>\n",
       "    .dataframe tbody tr th:only-of-type {\n",
       "        vertical-align: middle;\n",
       "    }\n",
       "\n",
       "    .dataframe tbody tr th {\n",
       "        vertical-align: top;\n",
       "    }\n",
       "\n",
       "    .dataframe thead th {\n",
       "        text-align: right;\n",
       "    }\n",
       "</style>\n",
       "<table border=\"1\" class=\"dataframe\">\n",
       "  <thead>\n",
       "    <tr style=\"text-align: right;\">\n",
       "      <th></th>\n",
       "      <th>sentence_id</th>\n",
       "      <th>token_id</th>\n",
       "      <th>semiotic</th>\n",
       "      <th>before</th>\n",
       "      <th>after</th>\n",
       "    </tr>\n",
       "  </thead>\n",
       "  <tbody>\n",
       "    <tr>\n",
       "      <th>27460</th>\n",
       "      <td>2242</td>\n",
       "      <td>11</td>\n",
       "      <td>PUNCT</td>\n",
       "      <td>.</td>\n",
       "      <td>.</td>\n",
       "    </tr>\n",
       "    <tr>\n",
       "      <th>9551</th>\n",
       "      <td>759</td>\n",
       "      <td>5</td>\n",
       "      <td>PLAIN</td>\n",
       "      <td>the</td>\n",
       "      <td>the</td>\n",
       "    </tr>\n",
       "    <tr>\n",
       "      <th>77947</th>\n",
       "      <td>6381</td>\n",
       "      <td>11</td>\n",
       "      <td>PLAIN</td>\n",
       "      <td>far</td>\n",
       "      <td>far</td>\n",
       "    </tr>\n",
       "    <tr>\n",
       "      <th>4412</th>\n",
       "      <td>348</td>\n",
       "      <td>7</td>\n",
       "      <td>PLAIN</td>\n",
       "      <td>in</td>\n",
       "      <td>in</td>\n",
       "    </tr>\n",
       "    <tr>\n",
       "      <th>42046</th>\n",
       "      <td>3427</td>\n",
       "      <td>7</td>\n",
       "      <td>PLAIN</td>\n",
       "      <td>Takayama</td>\n",
       "      <td>Takayama</td>\n",
       "    </tr>\n",
       "  </tbody>\n",
       "</table>\n",
       "</div>"
      ],
      "text/plain": [
       "      sentence_id token_id semiotic    before     after\n",
       "27460        2242       11    PUNCT         .         .\n",
       "9551          759        5    PLAIN       the       the\n",
       "77947        6381       11    PLAIN       far       far\n",
       "4412          348        7    PLAIN        in        in\n",
       "42046        3427        7    PLAIN  Takayama  Takayama"
      ]
     },
     "execution_count": 13,
     "metadata": {},
     "output_type": "execute_result"
    }
   ],
   "source": [
    "data[self_mask].sample(5)"
   ]
  },
  {
   "cell_type": "markdown",
   "metadata": {},
   "source": [
    "## Exporting Data"
   ]
  },
  {
   "cell_type": "code",
   "execution_count": 14,
   "metadata": {},
   "outputs": [
    {
     "data": {
      "text/html": [
       "<div>\n",
       "<style scoped>\n",
       "    .dataframe tbody tr th:only-of-type {\n",
       "        vertical-align: middle;\n",
       "    }\n",
       "\n",
       "    .dataframe tbody tr th {\n",
       "        vertical-align: top;\n",
       "    }\n",
       "\n",
       "    .dataframe thead th {\n",
       "        text-align: right;\n",
       "    }\n",
       "</style>\n",
       "<table border=\"1\" class=\"dataframe\">\n",
       "  <thead>\n",
       "    <tr style=\"text-align: right;\">\n",
       "      <th></th>\n",
       "      <th>sentence_id</th>\n",
       "      <th>token_id</th>\n",
       "      <th>semiotic</th>\n",
       "      <th>before</th>\n",
       "      <th>after</th>\n",
       "    </tr>\n",
       "  </thead>\n",
       "  <tbody>\n",
       "    <tr>\n",
       "      <th>30</th>\n",
       "      <td>2</td>\n",
       "      <td>0</td>\n",
       "      <td>PLAIN</td>\n",
       "      <td>She</td>\n",
       "      <td>She</td>\n",
       "    </tr>\n",
       "    <tr>\n",
       "      <th>31</th>\n",
       "      <td>2</td>\n",
       "      <td>1</td>\n",
       "      <td>PLAIN</td>\n",
       "      <td>then</td>\n",
       "      <td>then</td>\n",
       "    </tr>\n",
       "    <tr>\n",
       "      <th>32</th>\n",
       "      <td>2</td>\n",
       "      <td>2</td>\n",
       "      <td>PLAIN</td>\n",
       "      <td>compelled</td>\n",
       "      <td>compelled</td>\n",
       "    </tr>\n",
       "    <tr>\n",
       "      <th>33</th>\n",
       "      <td>2</td>\n",
       "      <td>3</td>\n",
       "      <td>PLAIN</td>\n",
       "      <td>her</td>\n",
       "      <td>her</td>\n",
       "    </tr>\n",
       "    <tr>\n",
       "      <th>34</th>\n",
       "      <td>2</td>\n",
       "      <td>4</td>\n",
       "      <td>PLAIN</td>\n",
       "      <td>tenants</td>\n",
       "      <td>tenants</td>\n",
       "    </tr>\n",
       "    <tr>\n",
       "      <th>35</th>\n",
       "      <td>2</td>\n",
       "      <td>5</td>\n",
       "      <td>PLAIN</td>\n",
       "      <td>to</td>\n",
       "      <td>to</td>\n",
       "    </tr>\n",
       "    <tr>\n",
       "      <th>36</th>\n",
       "      <td>2</td>\n",
       "      <td>6</td>\n",
       "      <td>PLAIN</td>\n",
       "      <td>level</td>\n",
       "      <td>level</td>\n",
       "    </tr>\n",
       "    <tr>\n",
       "      <th>37</th>\n",
       "      <td>2</td>\n",
       "      <td>7</td>\n",
       "      <td>PLAIN</td>\n",
       "      <td>the</td>\n",
       "      <td>the</td>\n",
       "    </tr>\n",
       "    <tr>\n",
       "      <th>38</th>\n",
       "      <td>2</td>\n",
       "      <td>8</td>\n",
       "      <td>PLAIN</td>\n",
       "      <td>Royalist</td>\n",
       "      <td>Royalist</td>\n",
       "    </tr>\n",
       "    <tr>\n",
       "      <th>39</th>\n",
       "      <td>2</td>\n",
       "      <td>9</td>\n",
       "      <td>PLAIN</td>\n",
       "      <td>siege</td>\n",
       "      <td>siege</td>\n",
       "    </tr>\n",
       "  </tbody>\n",
       "</table>\n",
       "</div>"
      ],
      "text/plain": [
       "   sentence_id token_id semiotic     before      after\n",
       "30           2        0    PLAIN        She        She\n",
       "31           2        1    PLAIN       then       then\n",
       "32           2        2    PLAIN  compelled  compelled\n",
       "33           2        3    PLAIN        her        her\n",
       "34           2        4    PLAIN    tenants    tenants\n",
       "35           2        5    PLAIN         to         to\n",
       "36           2        6    PLAIN      level      level\n",
       "37           2        7    PLAIN        the        the\n",
       "38           2        8    PLAIN   Royalist   Royalist\n",
       "39           2        9    PLAIN      siege      siege"
      ]
     },
     "execution_count": 14,
     "metadata": {},
     "output_type": "execute_result"
    }
   ],
   "source": [
    "data[30:40]"
   ]
  },
  {
   "cell_type": "code",
   "execution_count": 15,
   "metadata": {
    "collapsed": true
   },
   "outputs": [],
   "source": [
    "data.to_csv(data_directory+out, index=False)"
   ]
  },
  {
   "cell_type": "markdown",
   "metadata": {},
   "source": [
    "___"
   ]
  }
 ],
 "metadata": {
  "kernelspec": {
   "display_name": "Python [default]",
   "language": "python",
   "name": "python3"
  },
  "language_info": {
   "codemirror_mode": {
    "name": "ipython",
    "version": 3
   },
   "file_extension": ".py",
   "mimetype": "text/x-python",
   "name": "python",
   "nbconvert_exporter": "python",
   "pygments_lexer": "ipython3",
   "version": "3.6.3"
  }
 },
 "nbformat": 4,
 "nbformat_minor": 2
}
